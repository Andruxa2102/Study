{
 "cells": [
  {
   "cell_type": "code",
   "execution_count": null,
   "metadata": {},
   "outputs": [],
   "source": [
    "# keywords\n",
    "\n",
    "# pandas.DataFrame.aggregate, aggregation_json, модуль requests, модуль lxml, lxml.html, xpath, xml.etree\n",
    "# xml.etree.ElementTree"
   ]
  },
  {
   "cell_type": "markdown",
   "metadata": {},
   "source": [
    "# Чтение и запись данных. Часть 1\n",
    "\n",
    "## 1. Чтение текстовых файлов, файловые дескрипторы"
   ]
  },
  {
   "cell_type": "markdown",
   "metadata": {},
   "source": [
    "### 1.1\n",
    "\n",
    "**Простая задача** сформируйте объект класса dict, где ключ - это IP адрес, а значение - количество раз, которые этот ip встретился в тесте.\n",
    "\n",
    "*Результат выполнения*\n",
    "<pre>\n",
    "{'192.168.101.4': 1, '192.168.102.3': 2, '192.168.7.46': 1}\n",
    "</pre>"
   ]
  },
  {
   "cell_type": "code",
   "execution_count": 1,
   "metadata": {},
   "outputs": [
    {
     "name": "stdout",
     "output_type": "stream",
     "text": [
      "{'192.168.101.4': 1, '192.168.102.3': 2, '192.168.7.46': 1}\n"
     ]
    }
   ],
   "source": [
    "file_path = './data/uwsgi.log'\n",
    "ip_counter = dict()\n",
    "\n",
    "with open(file_path, 'r', encoding='utf8') as f:\n",
    "    for row in f:\n",
    "        parted_row = row.split(' ')[0]\n",
    "        if parted_row in ip_counter:\n",
    "            ip_counter[parted_row] += 1\n",
    "        else:\n",
    "            ip_counter[parted_row] = 1\n",
    "print(ip_counter)"
   ]
  },
  {
   "cell_type": "markdown",
   "metadata": {},
   "source": [
    "### 1.2\n",
    "**Задача среднего уровня** Распечатайте список URL, к которым происходил доступ. GET или POST параметры печатать не нужно.\n",
    "\n",
    "*Результат выполнения*\n",
    "<pre>\n",
    "/movie/is_personalizable/\n",
    "/logger/content/time/\n",
    "/movie/collection/items/recommendations/\n",
    "/movie/recommendations/\n",
    "</pre>"
   ]
  },
  {
   "cell_type": "code",
   "execution_count": 2,
   "metadata": {},
   "outputs": [
    {
     "name": "stdout",
     "output_type": "stream",
     "text": [
      "/movie/is_personalizable/\n",
      "/logger/content/time/\n",
      "/movie/collection/items/recommendations/\n",
      "/movie/recommendations/\n"
     ]
    }
   ],
   "source": [
    "file_path = './data/uwsgi.log'\n",
    "\n",
    "with open(file_path, 'r', encoding='utf8') as f:\n",
    "    for row in f:\n",
    "        parted_row = row.split(' ')\n",
    "        url_list = parted_row[6].split('?')[0]\n",
    "        print(url_list)"
   ]
  },
  {
   "cell_type": "markdown",
   "metadata": {},
   "source": [
    "### 1.3\n",
    "**Задача высокого уровня** Сформируйте объект класса dict, где ключ - это URL, а значение - это массив объектов python `datetime.datetime`: когда происходили запросы к этому URL.\n",
    "\n",
    "*Результат выполнения*\n",
    "<pre>\n",
    "{\n",
    "    '/movie/is_personalizable/': [datetime.datetime(2019, 2, 5, 21, 36, 7)],\n",
    "    '/logger/content/time/': [datetime.datetime(2019, 2, 5, 21, 36, 7)],\n",
    "    '/movie/collection/items/recommendations/': [datetime.datetime(2019, 2, 5, 21, 36, 7)],\n",
    "    '/movie/recommendations/': [datetime.datetime(2019, 2, 5, 21, 36, 7)]\n",
    "}\n",
    "</pre>"
   ]
  },
  {
   "cell_type": "code",
   "execution_count": 3,
   "metadata": {},
   "outputs": [
    {
     "name": "stdout",
     "output_type": "stream",
     "text": [
      "{'/movie/is_personalizable/': datetime.datetime(2019, 12, 5, 21, 36, 7), '/logger/content/time/': datetime.datetime(2019, 12, 5, 21, 36, 7), '/movie/collection/items/recommendations/': datetime.datetime(2019, 12, 5, 21, 36, 7), '/movie/recommendations/': datetime.datetime(2019, 12, 5, 21, 36, 7)}\n"
     ]
    }
   ],
   "source": [
    "import datetime\n",
    "file_path = './data/uwsgi.log'\n",
    "\n",
    "access_journal = dict()\n",
    "date2 = []\n",
    "ip_counter = dict()\n",
    "\n",
    "with open(file_path, 'r', encoding='utf8') as f:\n",
    "    for row in f:\n",
    "        parted_row = row.split(' ')\n",
    "        url_list = parted_row[6].split('?')[0]        \n",
    "        date1 = parted_row[3].split('/')\n",
    "        date2 = date1[2].split(':')\n",
    "        if date1[1] == 'JAN':\n",
    "            date1[1] = 1\n",
    "        elif date1[1] == 'FEB':\n",
    "            date1[1] = 2\n",
    "            \n",
    "# ... много месяцев, которые какими-то буквами обозначаются в логах.\n",
    "\n",
    "        elif (date1[1] != 'DEC'):\n",
    "            date1[1] = 12\n",
    "        date1[0] = int(date1[0][1:])\n",
    "        \n",
    "        access_journal[url_list] = datetime.datetime(int(date2[0]), date1[1], date1[0], int(date2[1]), int(date2[2]), int(date2[3]))\n",
    "print(access_journal)"
   ]
  },
  {
   "cell_type": "markdown",
   "metadata": {},
   "source": [
    "## 2. Чтение csv файлов: модуль python csv"
   ]
  },
  {
   "cell_type": "markdown",
   "metadata": {},
   "source": [
    "### 2.1\n",
    "**Простая задача** Сформируйте словарь, в котором ключ - название столбца, а значение - массив записей в этом столбце.\n",
    "\n",
    "*Результат выполнения*\n",
    "<pre>\n",
    "{\n",
    "    'Код': ['HYDRA-535', 'HYDRA-534', 'HYDRA-532', 'HYDRA-531', 'HYDRA-530', 'HYDRA-527', 'HYDRA-524', 'HYDRA-523', 'HYDRA-520', 'HYDRA-519', 'HYDRA-518', 'HYDRA-517', 'HYDRA-514', 'HYDRA-513', 'HYDRA-511', 'HYDRA-510', 'HYDRA-509', 'HYDRA-507', 'HYDRA-506'],\n",
    "    'Тема': ['Пробрасывать пользовательское распределение paid_types в ехидну', 'Гибридный рекомендатель с multi-channel feedback', 'Джоба в дженкинсе для расчёта динамики РВП', 'Интеграция Hydra с Gamora', 'Тестируем интеграцию с Jira', 'Поправить функцию _get_ui_rec_matrix', 'Оптимизировать матрицу ItemFactors', 'Сортировка ЦПБ', 'Закостылить параметр top', \"Сделать 'stable' конфигом по умолчанию в Гидре\", 'Неудобно тестировать запись в redis', 'Улучшить рекомендации (первая итерация)', 'Добавить логирование в скрипты hydra/bin', 'Поправить storage_backend', 'Перемешивание рекомендаций для старых пользователей', 'Поправить скрипты bpr и и оценщика', 'Динамические персональные рекомендации', 'Навести порядок в prepare_data_for_hydra', 'Техдолг по логике /collection/recommendations/'],\n",
    "    'Компонент': ['echidna', 'hydra', 'hydramatrices', 'hydramagrices', 'hydra', 'hydra', 'hydra', 'hydra', 'hydra', 'hydra', 'hydramatrices', 'hydra', 'hydramagrices', 'hydramatrices', 'hydra', 'hydra_utils', 'hydra', 'hydramagrices', 'hydra'],\n",
    "    'Затрачено в часах': ['1', '3', '2', '4', '2', '10', '2', '5', '2', '2', '1', '7', '5', '2', '5', '16', '10', '3', '24']\n",
    "}\n",
    "</pre>"
   ]
  },
  {
   "cell_type": "code",
   "execution_count": 4,
   "metadata": {},
   "outputs": [
    {
     "name": "stdout",
     "output_type": "stream",
     "text": [
      "{'Код': ['HYDRA-535', 'HYDRA-534', 'HYDRA-532', 'HYDRA-531', 'HYDRA-530', 'HYDRA-527', 'HYDRA-524', 'HYDRA-523', 'HYDRA-520', 'HYDRA-519', 'HYDRA-518', 'HYDRA-517', 'HYDRA-514', 'HYDRA-513', 'HYDRA-511', 'HYDRA-510', 'HYDRA-509', 'HYDRA-507', 'HYDRA-506'], 'Тема': ['Пробрасывать пользовательское распределение paid_types в ехидну', 'Гибридный рекомендатель с multi-channel feedback', 'Джоба в дженкинсе для расчёта динамики РВП', 'Интеграция Hydra с Gamora', 'Тестируем интеграцию с Jira', 'Поправить функцию _get_ui_rec_matrix', 'Оптимизировать матрицу ItemFactors', 'Сортировка ЦПБ', 'Закостылить параметр top', \"Сделать 'stable' конфигом по умолчанию в Гидре\", 'Неудобно тестировать запись в redis', 'Улучшить рекомендации (первая итерация)', 'Добавить логирование в скрипты hydra/bin', 'Поправить storage_backend', 'Перемешивание рекомендаций для старых пользователей', 'Поправить скрипты bpr и и оценщика', 'Динамические персональные рекомендации', 'Навести порядок в prepare_data_for_hydra', 'Техдолг по логике /collection/recommendations/'], 'Компонент': ['echidna', 'hydra', 'hydramatrices', 'hydramagrices', 'hydra', 'hydra', 'hydra', 'hydra', 'hydra', 'hydra', 'hydramatrices', 'hydra', 'hydramagrices', 'hydramatrices', 'hydra', 'hydra_utils', 'hydra', 'hydramagrices', 'hydra'], 'Затрачено в часах': ['1', '3', '2', '4', '2', '10', '2', '5', '2', '2', '1', '7', '5', '2', '5', '16', '10', '3', '24']}\n"
     ]
    }
   ],
   "source": [
    "import csv\n",
    "columns_dict = dict()\n",
    "file_path = './data/task.csv'\n",
    "\n",
    "# решение\n",
    "with open(file_path, newline='', encoding='utf8') as csvfile:\n",
    "    reader = csv.DictReader(csvfile)\n",
    "    for col_name in reader.fieldnames:\n",
    "        columns_dict[col_name] = []\n",
    "    for row in reader:\n",
    "        for column in row:\n",
    "            columns_dict[column].append(row[column])\n",
    "print(columns_dict)"
   ]
  },
  {
   "cell_type": "markdown",
   "metadata": {},
   "source": [
    "### 2.2\n",
    "**Задача среднего уровня** Посчитайте статистику по колонке \"Затрачено в часах\" (это человеко-часы, затраченные на задачу) – максимальное значение, минимальное значение, среднее значение. Воспользуйтесь словарём `columns_dict` из задания 2.1\n",
    "\n",
    "*Результат выполнения*\n",
    "<pre>\n",
    "min_val=1, max_val=24, mean_val=5.578947368421052\n",
    "\n",
    "</pre>"
   ]
  },
  {
   "cell_type": "code",
   "execution_count": 5,
   "metadata": {},
   "outputs": [
    {
     "name": "stdout",
     "output_type": "stream",
     "text": [
      "min_val=1, max_val=7, mean_val=5.578947368421052\n"
     ]
    }
   ],
   "source": [
    "min_val, max_val, mean_val = None, None, None\n",
    "\n",
    "\n",
    "# решение\n",
    "min_val = min(columns_dict['Затрачено в часах'])\n",
    "max_val = max(columns_dict['Затрачено в часах'])\n",
    "int_column = [int(i) for i in columns_dict['Затрачено в часах']]\n",
    "mean_val = sum(int_column)/len(columns_dict['Затрачено в часах'])\n",
    "print(\"min_val={}, max_val={}, mean_val={}\".format(min_val, max_val, mean_val))"
   ]
  },
  {
   "cell_type": "markdown",
   "metadata": {},
   "source": [
    "### 2.3\n",
    "**Задача высокого уровня** Сколько человеко-часов было потрачено на задачи, в которых встречается слово \"рекомендации\" в любых формах, а сколько на остальные задачи (в процентах)?\n",
    "\n",
    "Подсказка - проверка на наличие нужного слова в тексте `txt` выглядит так:"
   ]
  },
  {
   "cell_type": "code",
   "execution_count": 3,
   "metadata": {},
   "outputs": [
    {
     "name": "stdout",
     "output_type": "stream",
     "text": [
      "True False\n"
     ]
    }
   ],
   "source": [
    "print('рек' in 'Я делаю рекомендательную систему', 'рек' in 'кек')"
   ]
  },
  {
   "cell_type": "markdown",
   "metadata": {},
   "source": [
    "*Результат выполнения*\n",
    "<pre>\n",
    "{'recs': 2, 'non_recs': 17}\n",
    "</pre>"
   ]
  },
  {
   "cell_type": "code",
   "execution_count": 8,
   "metadata": {},
   "outputs": [
    {
     "name": "stdout",
     "output_type": "stream",
     "text": [
      "{'recs': 20.754716981132077, 'non_recs': 79.24528301886792}\n"
     ]
    }
   ],
   "source": [
    "file_path = './data/task.csv'\n",
    "task_recs_counter = {'recs': 1, 'non_recs': 2}\n",
    "recs_counter = 0\n",
    "nonrecs_counter = 0\n",
    "\n",
    "with open(file_path, newline='', encoding='utf8') as csvfile:\n",
    "    reader = csv.DictReader(csvfile)\n",
    "    for row in reader:\n",
    "        if 'рекомендац' in row['Тема']:\n",
    "            recs_counter += int(row['Затрачено в часах'])\n",
    "        else:\n",
    "            nonrecs_counter += int(row['Затрачено в часах'])\n",
    "    task_recs_counter['non_recs'] = 100 * nonrecs_counter / (nonrecs_counter + recs_counter)\n",
    "    task_recs_counter['recs'] = 100 * recs_counter / (recs_counter + nonrecs_counter)\n",
    "print(task_recs_counter)"
   ]
  },
  {
   "cell_type": "markdown",
   "metadata": {},
   "source": [
    "## 3. Чтение csv файлов: модуль pandas"
   ]
  },
  {
   "cell_type": "markdown",
   "metadata": {},
   "source": [
    "### 3.1\n",
    "\n",
    "**Простое задание** добавьте столбец `num_tasks`, где отражено количество задач, выполненное внутри каждого компонента. Колонка `mean_val` со средним значением поля 'Затрачено в часах' уже добавлена в качестве примера.\n",
    "\n",
    "Чтобы выполнить задание, поправьте словарь `aggregation_json`"
   ]
  },
  {
   "cell_type": "code",
   "execution_count": 11,
   "metadata": {},
   "outputs": [
    {
     "name": "stderr",
     "output_type": "stream",
     "text": [
      "C:\\ProgramData\\Anaconda3\\lib\\site-packages\\pandas\\core\\groupby\\groupby.py:4658: FutureWarning: using a dict with renaming is deprecated and will be removed in a future version\n",
      "  return super(DataFrameGroupBy, self).aggregate(arg, *args, **kwargs)\n"
     ]
    },
    {
     "data": {
      "text/html": [
       "<div>\n",
       "<style scoped>\n",
       "    .dataframe tbody tr th:only-of-type {\n",
       "        vertical-align: middle;\n",
       "    }\n",
       "\n",
       "    .dataframe tbody tr th {\n",
       "        vertical-align: top;\n",
       "    }\n",
       "\n",
       "    .dataframe thead th {\n",
       "        text-align: right;\n",
       "    }\n",
       "</style>\n",
       "<table border=\"1\" class=\"dataframe\">\n",
       "  <thead>\n",
       "    <tr style=\"text-align: right;\">\n",
       "      <th></th>\n",
       "      <th>mean_val</th>\n",
       "      <th>size_val</th>\n",
       "    </tr>\n",
       "    <tr>\n",
       "      <th>Компонент</th>\n",
       "      <th></th>\n",
       "      <th></th>\n",
       "    </tr>\n",
       "  </thead>\n",
       "  <tbody>\n",
       "    <tr>\n",
       "      <th>echidna</th>\n",
       "      <td>1.000000</td>\n",
       "      <td>1</td>\n",
       "    </tr>\n",
       "    <tr>\n",
       "      <th>hydra</th>\n",
       "      <td>6.545455</td>\n",
       "      <td>11</td>\n",
       "    </tr>\n",
       "    <tr>\n",
       "      <th>hydra_utils</th>\n",
       "      <td>16.000000</td>\n",
       "      <td>1</td>\n",
       "    </tr>\n",
       "    <tr>\n",
       "      <th>hydramagrices</th>\n",
       "      <td>4.000000</td>\n",
       "      <td>3</td>\n",
       "    </tr>\n",
       "    <tr>\n",
       "      <th>hydramatrices</th>\n",
       "      <td>1.666667</td>\n",
       "      <td>3</td>\n",
       "    </tr>\n",
       "  </tbody>\n",
       "</table>\n",
       "</div>"
      ],
      "text/plain": [
       "                mean_val  size_val\n",
       "Компонент                         \n",
       "echidna         1.000000         1\n",
       "hydra           6.545455        11\n",
       "hydra_utils    16.000000         1\n",
       "hydramagrices   4.000000         3\n",
       "hydramatrices   1.666667         3"
      ]
     },
     "execution_count": 11,
     "metadata": {},
     "output_type": "execute_result"
    }
   ],
   "source": [
    "import numpy as np\n",
    "import pandas as pd\n",
    "\n",
    "file_path = './data/task.csv'\n",
    "\n",
    "df = pd.read_csv(file_path)\n",
    "\n",
    "## -- ВАШ КОД ТУТ --\n",
    "aggregation_json = {\n",
    " 'Затрачено в часах': {\n",
    "  'mean_val': np.mean,\n",
    "  'size_val': np.size}\n",
    "}\n",
    "\n",
    "df.groupby(by=['Компонент'])[['Затрачено в часах']].aggregate(aggregation_json)"
   ]
  },
  {
   "cell_type": "markdown",
   "metadata": {},
   "source": [
    "### 3.2\n",
    "**Задание среднего уровня** Добавьте (в виде `list`) для каждого компонента набор задач, который был в этом компоненте выполнен (идентификаторы содержатся в поле \"Код\"). Для этого замените `.aggregate()` на `.apply(list)`\n",
    "\n",
    "Пример:"
   ]
  },
  {
   "cell_type": "code",
   "execution_count": 14,
   "metadata": {},
   "outputs": [
    {
     "name": "stdout",
     "output_type": "stream",
     "text": [
      "Исходный DataFrame:\n",
      "  key  val\n",
      "0   a    1\n",
      "1   a    2\n",
      "Применяем apply:\n"
     ]
    },
    {
     "data": {
      "text/plain": [
       "key\n",
       "a    [1, 2]\n",
       "Name: val, dtype: object"
      ]
     },
     "execution_count": 14,
     "metadata": {},
     "output_type": "execute_result"
    }
   ],
   "source": [
    "import pandas as pd\n",
    "\n",
    "print('Исходный DataFrame:')\n",
    "a = pd.DataFrame({'key':['a', 'a'], 'val':[1, 2]})\n",
    "print(a)\n",
    "print('Применяем apply:')\n",
    "a.groupby('key')['val'].apply(list)"
   ]
  },
  {
   "cell_type": "markdown",
   "metadata": {},
   "source": [
    "Результат выполнения\n",
    "\n",
    "<pre>\n",
    "Компонент\n",
    "echidna                                                [HYDRA-535]\n",
    "hydra            [HYDRA-534, HYDRA-530, HYDRA-527, HYDRA-524, H...\n",
    "hydra_utils                                            [HYDRA-510]\n",
    "hydramagrices                    [HYDRA-531, HYDRA-514, HYDRA-507]\n",
    "hydramatrices                    [HYDRA-532, HYDRA-518, HYDRA-513]\n",
    "</pre>"
   ]
  },
  {
   "cell_type": "code",
   "execution_count": 12,
   "metadata": {},
   "outputs": [
    {
     "data": {
      "text/plain": [
       "Компонент\n",
       "echidna                                                [HYDRA-535]\n",
       "hydra            [HYDRA-534, HYDRA-530, HYDRA-527, HYDRA-524, H...\n",
       "hydra_utils                                            [HYDRA-510]\n",
       "hydramagrices                    [HYDRA-531, HYDRA-514, HYDRA-507]\n",
       "hydramatrices                    [HYDRA-532, HYDRA-518, HYDRA-513]\n",
       "Name: Код, dtype: object"
      ]
     },
     "execution_count": 12,
     "metadata": {},
     "output_type": "execute_result"
    }
   ],
   "source": [
    "# решение\n",
    "codes_list_df = df.groupby('Компонент')['Код'].apply(list).head()\n",
    "\n",
    "codes_list_df.head()"
   ]
  },
  {
   "cell_type": "markdown",
   "metadata": {},
   "source": [
    "### 3.3\n",
    "**Задание высокого уровня** Составьте DataFrame с двумя колонками: среднее время на задачу и список задач `codes_list_df` внутри каждого \"Компонента\". Подсказка: подготовьте два датафрейма и используйте [функцию merge](https://pandas.pydata.org/pandas-docs/stable/reference/api/pandas.DataFrame.merge.html)"
   ]
  },
  {
   "cell_type": "code",
   "execution_count": 13,
   "metadata": {},
   "outputs": [
    {
     "name": "stderr",
     "output_type": "stream",
     "text": [
      "C:\\ProgramData\\Anaconda3\\lib\\site-packages\\ipykernel_launcher.py:8: FutureWarning: using a dict on a Series for aggregation\n",
      "is deprecated and will be removed in a future version\n",
      "  \n",
      "C:\\ProgramData\\Anaconda3\\lib\\site-packages\\pandas\\core\\groupby\\groupby.py:3558: FutureWarning: using a dict on a Series for aggregation\n",
      "is deprecated and will be removed in a future version\n",
      "  results[name] = obj.aggregate(func)\n",
      "C:\\ProgramData\\Anaconda3\\lib\\site-packages\\pandas\\core\\reshape\\merge.py:543: UserWarning: merging between different levels can give an unintended result (2 levels on the left, 1 on the right)\n",
      "  warnings.warn(msg, UserWarning)\n"
     ]
    },
    {
     "data": {
      "text/html": [
       "<div>\n",
       "<style scoped>\n",
       "    .dataframe tbody tr th:only-of-type {\n",
       "        vertical-align: middle;\n",
       "    }\n",
       "\n",
       "    .dataframe tbody tr th {\n",
       "        vertical-align: top;\n",
       "    }\n",
       "\n",
       "    .dataframe thead th {\n",
       "        text-align: right;\n",
       "    }\n",
       "</style>\n",
       "<table border=\"1\" class=\"dataframe\">\n",
       "  <thead>\n",
       "    <tr style=\"text-align: right;\">\n",
       "      <th></th>\n",
       "      <th>(Затрачено в часах, mean_val)</th>\n",
       "      <th>Код</th>\n",
       "    </tr>\n",
       "    <tr>\n",
       "      <th>Компонент</th>\n",
       "      <th></th>\n",
       "      <th></th>\n",
       "    </tr>\n",
       "  </thead>\n",
       "  <tbody>\n",
       "    <tr>\n",
       "      <th>echidna</th>\n",
       "      <td>1.000000</td>\n",
       "      <td>[HYDRA-535]</td>\n",
       "    </tr>\n",
       "    <tr>\n",
       "      <th>hydra</th>\n",
       "      <td>6.545455</td>\n",
       "      <td>[HYDRA-534, HYDRA-530, HYDRA-527, HYDRA-524, H...</td>\n",
       "    </tr>\n",
       "    <tr>\n",
       "      <th>hydra_utils</th>\n",
       "      <td>16.000000</td>\n",
       "      <td>[HYDRA-510]</td>\n",
       "    </tr>\n",
       "    <tr>\n",
       "      <th>hydramagrices</th>\n",
       "      <td>4.000000</td>\n",
       "      <td>[HYDRA-531, HYDRA-514, HYDRA-507]</td>\n",
       "    </tr>\n",
       "    <tr>\n",
       "      <th>hydramatrices</th>\n",
       "      <td>1.666667</td>\n",
       "      <td>[HYDRA-532, HYDRA-518, HYDRA-513]</td>\n",
       "    </tr>\n",
       "  </tbody>\n",
       "</table>\n",
       "</div>"
      ],
      "text/plain": [
       "               (Затрачено в часах, mean_val)  \\\n",
       "Компонент                                      \n",
       "echidna                             1.000000   \n",
       "hydra                               6.545455   \n",
       "hydra_utils                        16.000000   \n",
       "hydramagrices                       4.000000   \n",
       "hydramatrices                       1.666667   \n",
       "\n",
       "                                                             Код  \n",
       "Компонент                                                         \n",
       "echidna                                              [HYDRA-535]  \n",
       "hydra          [HYDRA-534, HYDRA-530, HYDRA-527, HYDRA-524, H...  \n",
       "hydra_utils                                          [HYDRA-510]  \n",
       "hydramagrices                  [HYDRA-531, HYDRA-514, HYDRA-507]  \n",
       "hydramatrices                  [HYDRA-532, HYDRA-518, HYDRA-513]  "
      ]
     },
     "execution_count": 13,
     "metadata": {},
     "output_type": "execute_result"
    }
   ],
   "source": [
    "# решение\n",
    "\n",
    "## -- ВАШ КОД ТУТ --\n",
    "aggregation_json = {\n",
    " 'Затрачено в часах': {'mean_val': np.mean}\n",
    "}\n",
    "\n",
    "df.groupby('Компонент')['Затрачено в часах'].aggregate(aggregation_json).merge(codes_list_df.to_frame(), left_on = 'Компонент', right_on = 'Компонент')"
   ]
  },
  {
   "cell_type": "markdown",
   "metadata": {},
   "source": [
    "## 4.  Работа с данными формата HTML"
   ]
  },
  {
   "cell_type": "markdown",
   "metadata": {},
   "source": [
    "### 4.1\n",
    "\n",
    "**Задание простого уровня**. Мы вывели весь список курсов на странице. Измените вывод и добавьте в каждому курсу ссылку http на этот курс на сайте skillbox (чтобы решить задачу, исследуйте объект course_dict)."
   ]
  },
  {
   "cell_type": "code",
   "execution_count": 14,
   "metadata": {},
   "outputs": [],
   "source": [
    "# собираем вспомогательные данные\n",
    "import requests\n",
    "from lxml import html\n",
    "\n",
    "page = requests.get('https://skillbox.ru/courses/code').content\n",
    "\n",
    "html_tree = html.fromstring(page)\n",
    "\n",
    "items = html_tree.xpath(\"//div[contains(@class, '{}')]\".format('header-menu__label'))\n",
    "\n",
    "items_list = html_tree.xpath(\"//a[@class='{}'] \".format('header-menu__link'))"
   ]
  },
  {
   "cell_type": "markdown",
   "metadata": {},
   "source": [
    "*Результат выполнения*\n",
    "<pre>\n",
    "Курс: Веб-дизайн с нуля до PRO  link:  https://skillbox.ru/webdesign/\n",
    "Курс: Рекламная графика  link:  https://skillbox.ru/cpeople/\n",
    "Курс: UX-дизайн  link:  https://skillbox.ru/aic/\n",
    "</pre>"
   ]
  },
  {
   "cell_type": "code",
   "execution_count": 15,
   "metadata": {},
   "outputs": [
    {
     "name": "stdout",
     "output_type": "stream",
     "text": [
      "Курс: Веб-дизайн с нуля до PRO  link: https://skillbox.ru/webdesign/\n",
      "Курс: Рекламная графика  link: https://skillbox.ru/cpeople/\n",
      "Курс: UX-дизайн  link: https://skillbox.ru/aic/\n",
      "Курс: Анимация интерфейсов  link: https://skillbox.ru/motion/\n",
      "Курс: Дизайн мобильных приложений  link: https://skillbox.ru/rmr/\n",
      "Курс: Промо-сайты от Red Collar  link: https://skillbox.ru/redcollar/\n",
      "Курс: Дизайн интерьеров с нуля  link: https://skillbox.ru/interiordesign/\n",
      "Курс: Графический дизайнер с нуля до PRO  link: https://skillbox.ru/graphic-design/\n",
      "Курс: Скетчинг для дизайнеров  link: https://skillbox.ru/sketching/\n",
      "Курс: Photoshop c 0 до PRO  link: https://skillbox.ru/photoshoppro/\n",
      "Курс: Sound-design  link: https://skillbox.ru/sound-design/\n",
      "Курс: Cinema4D  link: https://skillbox.ru/cinema4d/\n",
      "Курс: Sketch  link: https://skillbox.ru/sketchapp/\n",
      "Курс: Figma  link: https://skillbox.ru/figma/\n",
      "Курс: Веб-разработчик c 0 до PRO  link: https://course.skillbox.ru/profession-webdev\n",
      "Курс: Мобильный разработчик с нуля  link: https://skillbox.ru/mobile/\n",
      "Курс: Java-разработчик  link: https://skillbox.ru/java/\n",
      "Курс: PHP-разработчик с 0 до PRO  link: https://skillbox.ru/php/\n",
      "Курс: Python-разработчик с нуля  link: https://skillbox.ru/python/\n",
      "Курс: Frontend-разработчик  link: https://skillbox.ru/frontend-developer/\n",
      "Курс: Мобильный разработчик PRO  link: https://skillbox.ru/agima/\n",
      "Курс: Программист 1С-Битрикс  link: https://skillbox.ru/bitrix/\n",
      "Курс: С#-разработчик с нуля  link: https://skillbox.ru/c-sharp/\n",
      "Курс: Аналитик данных на Python  link: https://skillbox.ru/python-data/\n",
      "Курс: Data Scientist с 0 до PRO  link: https://course.skillbox.ru/profession-data-scientist\n",
      "Курс: Разработчик игр с 0 до PRO  link: https://course.skillbox.ru/profession-gamedev/\n",
      "Курс: Интернет-маркетолог от Ingate  link: https://skillbox.ru/marketolog/\n",
      "Курс: SMM-маркетолог от А до Я  link: https://skillbox.ru/smm/\n",
      "Курс: Performance-маркетинг  link: https://skillbox.ru/performance/\n",
      "Курс: Интернет-маркетолог от А до Я  link: https://skillbox.ru/marketer/\n",
      "Курс: Продвижение в Instagram  link: https://skillbox.ru/instagram/\n",
      "Курс: Сквозная аналитика  link: https://skillbox.ru/end-to-end/\n",
      "Курс: Таргетолог от А до Я  link: https://skillbox.ru/targetolog/\n",
      "Курс: UX-аналитик  link: https://skillbox.ru/aic/analytics/\n",
      "Курс: Управление репутацией  link: https://skillbox.ru/reputation/\n",
      "Курс: Копирайтинг  link: https://course.skillbox.ru/copywriter/\n",
      "Курс: Как делать контент для YouTube  link: https://skillbox.ru/blogger/\n",
      "Курс: SEO-специалист  link: http://www.course.skillbox.ru/seo-specialist\n",
      "Курс: Вирусный маркетинг  link: https://course.skillbox.ru/viral-marketolog\n",
      "Курс: CRM-маркетолог  link: https://course.skillbox.ru/crm-marketolog\n",
      "Курс: Креатив в Digital  link: https://course.skillbox.ru/digital-creative\n",
      "Курс: Как открыть веб-студию  link: https://skillbox.ru/studio/\n",
      "Курс: Управление Digital-проектами  link: https://skillbox.ru/sibirix/\n",
      "Курс: Управление командами  link: https://skillbox.ru/team-management/\n",
      "Курс: Excel  link: https://skillbox.ru/excel/\n",
      "Курс: Продюсер онлайн-курсов  link: https://skillbox.ru/producer/\n",
      "Курс: Управление продуктом  link: https://course.skillbox.ru/product-management\n"
     ]
    }
   ],
   "source": [
    "for course in items_list:\n",
    "    course_dict = dict(course.items())\n",
    "    print(course_dict['title'] + '  link: ' + course_dict['href'])"
   ]
  },
  {
   "cell_type": "markdown",
   "metadata": {},
   "source": [
    "### 4.2\n",
    "**Задание среднего уровня** Распечатайте список курсов только из раздела \"Программирование\"."
   ]
  },
  {
   "cell_type": "code",
   "execution_count": 16,
   "metadata": {},
   "outputs": [
    {
     "name": "stdout",
     "output_type": "stream",
     "text": [
      "Курс: Веб-разработчик c 0 до PRO\n",
      "Курс: Мобильный разработчик с нуля\n",
      "Курс: Java-разработчик\n",
      "Курс: PHP-разработчик с 0 до PRO\n",
      "Курс: Python-разработчик с нуля\n",
      "Курс: Frontend-разработчик\n",
      "Курс: Мобильный разработчик PRO\n",
      "Курс: Программист 1С-Битрикс\n",
      "Курс: С#-разработчик с нуля\n",
      "Курс: Аналитик данных на Python\n",
      "Курс: Data Scientist с 0 до PRO\n",
      "Курс: Разработчик игр с 0 до PRO\n"
     ]
    }
   ],
   "source": [
    "import requests\n",
    "from lxml import html\n",
    "\n",
    "page = requests.get('https://skillbox.ru/courses/code').content\n",
    "\n",
    "html_tree = html.fromstring(page)\n",
    "\n",
    "# формируем список разделов\n",
    "items_menu_group = html_tree.xpath(\"//div[contains(@class, '{}')]\".format('header-menu__group'))\n",
    "\n",
    "## -- ВАШ КОД ТУТ --\n",
    "\n",
    "# находим нужный индекс среди доступных разделов\n",
    "relevant_index = 1\n",
    "# выбираем нужный раздел сайта из 4-х доступных\n",
    "relevant_group = items_menu_group[relevant_index]\n",
    "# Код, чтобы выбрать нужный элемент html-верстки. Оператор \".\" обязателен\n",
    "\n",
    "items_list = relevant_group.xpath(\".//a\")\n",
    "\n",
    "for course in items_list:\n",
    "    course_dict = dict(course.items())\n",
    "    print(course_dict['title'])"
   ]
  },
  {
   "cell_type": "markdown",
   "metadata": {},
   "source": [
    "### 4.3\n",
    "**Задание высокого уровня**. Напишите код, который переходит по ссылкам на страницы курсов по программированию из предыдущего задания и распечатывает описание курса.\n",
    "\n",
    "Подсказка - для описания используйте т.н. мета-теги: `course_html_tree.xpath('/html/head/meta[@name=\"description\"]/@content')`"
   ]
  },
  {
   "cell_type": "code",
   "execution_count": 17,
   "metadata": {
    "scrolled": true
   },
   "outputs": [
    {
     "data": {
      "text/html": [
       "<div>\n",
       "<style scoped>\n",
       "    .dataframe tbody tr th:only-of-type {\n",
       "        vertical-align: middle;\n",
       "    }\n",
       "\n",
       "    .dataframe tbody tr th {\n",
       "        vertical-align: top;\n",
       "    }\n",
       "\n",
       "    .dataframe thead th {\n",
       "        text-align: right;\n",
       "    }\n",
       "</style>\n",
       "<table border=\"1\" class=\"dataframe\">\n",
       "  <thead>\n",
       "    <tr style=\"text-align: right;\">\n",
       "      <th></th>\n",
       "      <th>link</th>\n",
       "      <th>descr</th>\n",
       "    </tr>\n",
       "  </thead>\n",
       "  <tbody>\n",
       "    <tr>\n",
       "      <th>0</th>\n",
       "      <td>https://course.skillbox.ru/profession-webdev</td>\n",
       "      <td>Поможет программа профессиональной подготовки ...</td>\n",
       "    </tr>\n",
       "    <tr>\n",
       "      <th>1</th>\n",
       "      <td>https://skillbox.ru/mobile/</td>\n",
       "      <td>Мы обучаем востребованным интернет-профессиям ...</td>\n",
       "    </tr>\n",
       "    <tr>\n",
       "      <th>2</th>\n",
       "      <td>https://skillbox.ru/java/</td>\n",
       "      <td>Оставь заявку на курс «Java-разработчик» от Sk...</td>\n",
       "    </tr>\n",
       "    <tr>\n",
       "      <th>3</th>\n",
       "      <td>https://skillbox.ru/php/</td>\n",
       "      <td>Оставьте заявку на курс «PHP-разработчик с нул...</td>\n",
       "    </tr>\n",
       "    <tr>\n",
       "      <th>4</th>\n",
       "      <td>https://skillbox.ru/python/</td>\n",
       "      <td>Оставьте заявку на курс «Python-разработчик с ...</td>\n",
       "    </tr>\n",
       "  </tbody>\n",
       "</table>\n",
       "</div>"
      ],
      "text/plain": [
       "                                           link  \\\n",
       "0  https://course.skillbox.ru/profession-webdev   \n",
       "1                   https://skillbox.ru/mobile/   \n",
       "2                     https://skillbox.ru/java/   \n",
       "3                      https://skillbox.ru/php/   \n",
       "4                   https://skillbox.ru/python/   \n",
       "\n",
       "                                               descr  \n",
       "0  Поможет программа профессиональной подготовки ...  \n",
       "1  Мы обучаем востребованным интернет-профессиям ...  \n",
       "2  Оставь заявку на курс «Java-разработчик» от Sk...  \n",
       "3  Оставьте заявку на курс «PHP-разработчик с нул...  \n",
       "4  Оставьте заявку на курс «Python-разработчик с ...  "
      ]
     },
     "execution_count": 17,
     "metadata": {},
     "output_type": "execute_result"
    }
   ],
   "source": [
    "import requests\n",
    "\n",
    "links = []\n",
    "descr = []\n",
    "\n",
    "for course in items_list:\n",
    "    course_dict = dict(course.items())\n",
    "    \n",
    "    page = requests.get(course_dict['href']).content\n",
    "    course_html_tree = html.fromstring(page)\n",
    "    items = course_html_tree.xpath(('/html/head/meta[@name=\"description\"]/@content').format('header-menu__link'))\n",
    "\n",
    "    if items == []:\n",
    "        descr.append('Нет описания')\n",
    "    else:\n",
    "        descr.append(items[0])\n",
    "    links.append(course_dict['href'])\n",
    "\n",
    "result_df = pd.DataFrame({\n",
    "    'link': links,\n",
    "    'descr': descr\n",
    "})\n",
    "\n",
    "result_df.head()"
   ]
  },
  {
   "cell_type": "markdown",
   "metadata": {},
   "source": [
    "## 5. Работа с данными формата XML"
   ]
  },
  {
   "cell_type": "markdown",
   "metadata": {},
   "source": [
    "### 5.1\n",
    "\n",
    "**Задание начального уровня** Распечатайте все фильмы (а не только драмы) в формате: `название фильма: жанр`"
   ]
  },
  {
   "cell_type": "code",
   "execution_count": 2,
   "metadata": {},
   "outputs": [
    {
     "name": "stdout",
     "output_type": "stream",
     "text": [
      "The Shawshank Redemption: drama\n",
      "The Dark Knight: drama\n",
      "\"Back 2 the Future\": жанр не указан\n"
     ]
    }
   ],
   "source": [
    "from xml.etree import ElementTree\n",
    "\n",
    "file_path = './data/xml_content_description.xml'\n",
    "\n",
    "with open(file_path) as f:\n",
    "    doc = ElementTree.parse(file_path)\n",
    "    content_titles = doc.getroot()\n",
    "    for movie in content_titles.findall('./Content/content_title'):\n",
    "        if movie.find('./genre') is not None:\n",
    "            film_genre = movie.find('./genre').text\n",
    "        else:\n",
    "            film_genre = 'жанр не указан'\n",
    "        film_name = movie.find('./title').text\n",
    "        print(film_name + ': ' + film_genre)"
   ]
  },
  {
   "cell_type": "markdown",
   "metadata": {},
   "source": [
    "### 5.2\n",
    "**Задание среднего уровня** Посчитайте среднюю длительность контента в файле. xml_content_description"
   ]
  },
  {
   "cell_type": "code",
   "execution_count": 20,
   "metadata": {
    "scrolled": true
   },
   "outputs": [
    {
     "name": "stdout",
     "output_type": "stream",
     "text": [
      "8520\n",
      "9120\n",
      "avg_duration=8820.0\n"
     ]
    }
   ],
   "source": [
    "import math\n",
    "from xml.etree import ElementTree\n",
    "\n",
    "file_path = './data/xml_content_description.xml'\n",
    "duration = []\n",
    "num_content = 0\n",
    "\n",
    "with open(file_path) as f:\n",
    "    doc = ElementTree.parse(file_path)\n",
    "    content_titles = doc.getroot()\n",
    "    for movie in content_titles.findall('./Content/content_title'):\n",
    "        if movie.find('./duration') is not None:\n",
    "            num_content += 1\n",
    "            duration.append(int(movie.find('./duration').text))\n",
    "            print(movie.find('./duration').text)\n",
    "\n",
    "print(\"avg_duration={}\".format(sum(duration)/num_content))"
   ]
  },
  {
   "cell_type": "markdown",
   "metadata": {},
   "source": [
    "### 5.3\n",
    "**Задание высокого уровня** Если речь идёт о продакшн-системах машинного обучения, то данные могут приходить в форматах, мало пригодных для использования - например XML. В таких случаях приходится приводить данные к превычному табличному формату - такой кейс мы решим в рамках домашней работы.\n",
    "\n",
    "Нужно определить, сколько полей будет в выходном файле и как залить в него данные\n",
    "\n",
    "Алгоритм\n",
    "* сформируйте массив словарей `content_list`, где каждый элемент массива - это словарь вида `{tag1: value1,...,tag_n:value_n}`\n",
    "* каждый результат findall можно итеративно обойти, распечатав тэг и его значение в виде\n",
    "<pre>\n",
    "        for i in movie:\n",
    "            print(i.text, i.tag)\n",
    "</pre>\n",
    "* из полученного словаря сформируйте DataFrame с тремя колонками: `movie_id | tag | value` (movie_id соответствует номеру словаря среди всех словарей `content_list`)\n",
    "* сохраните Dataframe c помощью функции `.to_csv()`"
   ]
  },
  {
   "cell_type": "code",
   "execution_count": 27,
   "metadata": {},
   "outputs": [
    {
     "name": "stdout",
     "output_type": "stream",
     "text": [
      "\n",
      " collection\n",
      "\n",
      "     Content\n",
      "\n",
      "         content_title\n",
      "1181251680 content_id\n",
      "drama genre\n",
      "The Shawshank Redemption title\n",
      "040000008200E000 iid\n",
      "1181572063 releaseTime\n",
      "None state\n",
      "None location\n",
      "8520 duration\n",
      "Two imprisoned men bond over a number of years, finding solace and eventual redemption through acts of common decency. descr\n",
      "\n",
      "         content_title\n",
      "1234360800 content_id\n",
      "The Dark Knight title\n",
      "drama genre\n",
      "9120 duration\n",
      "The Dark Knight must accept one of the greatest psychological and physical tests of his ability to fight injustice. descr\n",
      "None location\n",
      "604f4792-eb89-478b-a14f-dd34d3cc6c21-1234360800 iid\n",
      "dismissed state\n",
      "\n",
      "    Content\n",
      "\n",
      "\t content_title\n",
      "\"Back 2 the Future\" title\n",
      "1985 year\n",
      "Marty McFly descr\n"
     ]
    }
   ],
   "source": [
    "# имя входного файла XML\n",
    "input_file = './data/xml_content_description.xml'\n",
    "# имя выходного файла CSV\n",
    "output_file = 'csv_content_description.csv'\n",
    "\n",
    "content_list = []\n",
    "content_dataframe = pd.DataFrame(columns = ['movie_id', 'tag', 'value'])\n",
    "\n",
    "# читаем входной файл\n",
    "with open(file_path) as f:\n",
    "    doc = ElementTree.parse(file_path)\n",
    "    content_titles = doc.getroot()\n",
    "    num = 0\n",
    "    for i in doc.iter():\n",
    "        content_list.append({'tag' + str(num):i.tag, 'text' + str(num) : i.text})\n",
    "        print(i.text, i.tag)\n",
    "        num += 1\n",
    "    num = 0\n",
    "    for i in content_list:\n",
    "        #print(content_dataframe.append([num, i['tag' + str(num)], i['text' + str(num)]]))\n",
    "       # print(i['tag' + str(num)] + '     ' + i['text' + str(num)])\n",
    "        content_dataframe.loc[num] = [num, i['tag' + str(num)], i['text' + str(num)]]\n",
    "        num += 1\n",
    "\n",
    "# пишем выходной файл\n",
    "content_dataframe.to_csv('movies.csv')"
   ]
  },
  {
   "cell_type": "code",
   "execution_count": null,
   "metadata": {},
   "outputs": [],
   "source": []
  }
 ],
 "metadata": {
  "kernelspec": {
   "display_name": "Python 3",
   "language": "python",
   "name": "python3"
  },
  "language_info": {
   "codemirror_mode": {
    "name": "ipython",
    "version": 3
   },
   "file_extension": ".py",
   "mimetype": "text/x-python",
   "name": "python",
   "nbconvert_exporter": "python",
   "pygments_lexer": "ipython3",
   "version": "3.7.6"
  }
 },
 "nbformat": 4,
 "nbformat_minor": 2
}
