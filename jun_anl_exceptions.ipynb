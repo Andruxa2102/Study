{
 "cells": [
  {
   "cell_type": "code",
   "execution_count": null,
   "metadata": {},
   "outputs": [],
   "source": [
    "# keyword\n",
    "\n",
    "# Series.str.contains, Series.str.isalpha, apply, tilde operator(~)"
   ]
  },
  {
   "cell_type": "markdown",
   "metadata": {
    "colab_type": "text",
    "id": "c2KtXmjxtgw-"
   },
   "source": [
    "# Исключения\n",
    "## Домашняя работа"
   ]
  },
  {
   "cell_type": "markdown",
   "metadata": {
    "colab_type": "text",
    "id": "0Vhx-zKitgxA"
   },
   "source": [
    "### Вопросы по лекциям."
   ]
  },
  {
   "cell_type": "markdown",
   "metadata": {
    "colab_type": "text",
    "id": "14lleKewtgxC"
   },
   "source": [
    "Как поймать вообще все ошибки, которые могут произойти?"
   ]
  },
  {
   "cell_type": "markdown",
   "metadata": {
    "colab_type": "text",
    "id": "VQnYGkVKtgxD"
   },
   "source": [
    "**Ответ:**\n",
    "try:\n",
    "    Здесь код со всеми возможными ошибками\n",
    "except:\n",
    "    код обработчика ошибок"
   ]
  },
  {
   "cell_type": "markdown",
   "metadata": {
    "colab_type": "text",
    "id": "paSc2JE6tgxD"
   },
   "source": [
    "Сколько раз подряд можно указывать except?"
   ]
  },
  {
   "cell_type": "markdown",
   "metadata": {
    "colab_type": "text",
    "id": "bU0lzJPBtgxE"
   },
   "source": [
    "**Ответ:**\n",
    "Любое количество"
   ]
  },
  {
   "cell_type": "markdown",
   "metadata": {
    "colab_type": "text",
    "id": "9wQ-yXpGtgxF"
   },
   "source": [
    "Вы хотите с помощью print вывести название ошибки в консоль, как это сделать?"
   ]
  },
  {
   "cell_type": "markdown",
   "metadata": {
    "colab_type": "text",
    "id": "iE1iqRZctgxH"
   },
   "source": [
    "**Ответ:**\n",
    "При помощи ключевого слова as назначить псевдоним объекту ошибки и вызвать его в тексте обработчика ошибок:\n",
    "\n",
    "try:\n",
    "    Здесь код с определенной ошибкой\n",
    "except NameError as NameError_alias:\n",
    "    print(NameError_alias)"
   ]
  },
  {
   "cell_type": "markdown",
   "metadata": {
    "colab_type": "text",
    "id": "EDAi3ZFBtgxI"
   },
   "source": [
    "Вы хотите с помощью print вывести параметры ошибки в консоль, как это сделать?"
   ]
  },
  {
   "cell_type": "markdown",
   "metadata": {
    "colab_type": "text",
    "id": "qWimgtF3tgxK"
   },
   "source": [
    "**Ответ:**\n",
    "Как и в прошлом вопросе, но при выводе запросить аргументы:\n",
    "\n",
    "try:\n",
    "    Здесь код с определенной ошибкой\n",
    "except NameError as NameError_alias:\n",
    "    print(NameError_alias.args)"
   ]
  },
  {
   "cell_type": "markdown",
   "metadata": {
    "colab_type": "text",
    "id": "leOCJIlRtgxK"
   },
   "source": [
    "Что такое DeprecationWarning?"
   ]
  },
  {
   "cell_type": "markdown",
   "metadata": {
    "colab_type": "text",
    "id": "KyaynuyvtgxL"
   },
   "source": [
    "**Ответ:**\n",
    "Предупреждение об использовании устаревающих инструментов, которые будут отключены в будущих версиях"
   ]
  },
  {
   "cell_type": "markdown",
   "metadata": {
    "colab_type": "text",
    "id": "oxgCUHzotgxM"
   },
   "source": [
    "### Разминочные задания. \n",
    "<br>\n",
    "\n",
    "Вам даны две функции. Поисследуйте, какие ошибки могут возникнуть при их реализации. Обработайте эти ошибки."
   ]
  },
  {
   "cell_type": "code",
   "execution_count": 1,
   "metadata": {
    "colab": {},
    "colab_type": "code",
    "id": "X4nsMUUAtgxN"
   },
   "outputs": [],
   "source": [
    "def div():\n",
    "    try:\n",
    "        for i in range(2):\n",
    "            x = int(input(\"enter a number: \"))\n",
    "            y = int(input(\"enter another number: \"))\n",
    "            print(x, '/', y, '=', x/y)\n",
    "    except ZeroDivisionError:\n",
    "        print('Нельзя делить на нуль')\n",
    "    except ValueError:\n",
    "        print('Введены некорректные данные')"
   ]
  },
  {
   "cell_type": "code",
   "execution_count": 2,
   "metadata": {},
   "outputs": [
    {
     "name": "stdout",
     "output_type": "stream",
     "text": [
      "enter a number: 10\n",
      "enter another number: 0\n",
      "Нельзя делить на нуль\n"
     ]
    }
   ],
   "source": [
    "div()"
   ]
  },
  {
   "cell_type": "code",
   "execution_count": 3,
   "metadata": {},
   "outputs": [
    {
     "name": "stdout",
     "output_type": "stream",
     "text": [
      "enter a number: 10\n",
      "enter another number: abc\n",
      "Введены некорректные данные\n"
     ]
    }
   ],
   "source": [
    "div()"
   ]
  },
  {
   "cell_type": "code",
   "execution_count": 4,
   "metadata": {
    "colab": {},
    "colab_type": "code",
    "id": "hoDmt-nStgxS"
   },
   "outputs": [],
   "source": [
    "def sumOfPairs(L1, L2):\n",
    "    try:\n",
    "        sum = 0\n",
    "        sumOfPairs = []\n",
    "        for i in range(len(L1)):\n",
    "            sumOfPairs.append(L1[i]+L2[i])\n",
    "\n",
    "        print(\"sumOfPairs = \", sumOfPairs)\n",
    "    except TypeError:\n",
    "        print('Введены некорректные данные')"
   ]
  },
  {
   "cell_type": "code",
   "execution_count": 5,
   "metadata": {},
   "outputs": [
    {
     "name": "stdout",
     "output_type": "stream",
     "text": [
      "Введены некорректные данные\n"
     ]
    }
   ],
   "source": [
    "sumOfPairs('asdf', 1234)"
   ]
  },
  {
   "cell_type": "markdown",
   "metadata": {
    "colab_type": "text",
    "id": "geX0-Zq6tgxU"
   },
   "source": [
    "### Задание 1.\n",
    "\n",
    "Есть файл с протоколом регистраций пользователей на сайте (registrations.txt).<br>\n",
    "Каждая строка содержит информацию о имени, электронной почте и возрасте человека. <br><br>\n",
    "\n",
    "\n",
    "Надо проверить данные из файла, для каждой строки:\n",
    " - присутсвуют все три поля\n",
    " - поле имени содержит только буквы\n",
    " - поле email содержит @ и .\n",
    " - поле возраст является числом от 10 до 99<br>\n",
    "\n",
    "В результате проверки нужно сформировать два файла\n",
    " - registrations_good.log для правильных данных, записывать строки как есть\n",
    "- registrations_bad.log для ошибочных, записывать строку и вид ошибки.<br>\n",
    "\n",
    "Для валидации строки данных написать метод, который может выкидывать исключения:\n",
    " - НЕ присутсвуют все три поля: ValueError\n",
    " - поле имени содержит НЕ только буквы: NotNameError (кастомное исключение)\n",
    " - поле email НЕ содержит @ и .(точку): NotEmailError (кастомное исключение)\n",
    " - поле возраст НЕ является числом от 10 до 99: ValueError\n",
    "Вызов метода обернуть в try-except."
   ]
  },
  {
   "cell_type": "code",
   "execution_count": 6,
   "metadata": {
    "colab": {},
    "colab_type": "code",
    "id": "Eq2Ax0LntgxW"
   },
   "outputs": [],
   "source": [
    "### YOUR CODE HERE ###\n",
    "\n",
    "import pandas as pd\n",
    "import numpy as np\n",
    "import re\n",
    "registrations_df = pd.read_csv('./data/registrations_.txt', sep =' ', names = ['name', 'email', 'age'])"
   ]
  },
  {
   "cell_type": "code",
   "execution_count": 7,
   "metadata": {},
   "outputs": [
    {
     "name": "stdout",
     "output_type": "stream",
     "text": [
      "<class 'pandas.core.frame.DataFrame'>\n",
      "RangeIndex: 9924 entries, 0 to 9923\n",
      "Data columns (total 3 columns):\n",
      " #   Column  Non-Null Count  Dtype \n",
      "---  ------  --------------  ----- \n",
      " 0   name    9924 non-null   object\n",
      " 1   email   9852 non-null   object\n",
      " 2   age     9785 non-null   object\n",
      "dtypes: object(3)\n",
      "memory usage: 232.7+ KB\n"
     ]
    }
   ],
   "source": [
    "registrations_df.info()"
   ]
  },
  {
   "cell_type": "code",
   "execution_count": 8,
   "metadata": {},
   "outputs": [],
   "source": [
    "def CheckAges(pd_obj):\n",
    "    age = pd_obj['age']\n",
    "    try:\n",
    "        if ((int(age) > 10) & (int(age) < 99)):\n",
    "            return ''\n",
    "        else:\n",
    "            return 'CheckAge'\n",
    "    except ValueError:\n",
    "        return 'CheckAge'\n",
    "    \n",
    "def ErrorsRow(pd_obj):\n",
    "    error_string = []\n",
    "    if pd_obj['NotNullRecords'] == 'NotNullRecords':\n",
    "        error_string.append('NotNullRecords')\n",
    "    if pd_obj['OnlyLettersInNames'] == 'OnlyLettersInNames':\n",
    "        error_string.append('OnlyLettersInNames')\n",
    "    if pd_obj['CheckEmail'] == 'CheckEmail':\n",
    "        error_string.append('CheckEmail')\n",
    "    if pd_obj['CheckAge'] == 'CheckAge':\n",
    "        error_string.append('CheckAge')\n",
    "    return ' '.join(error_string)"
   ]
  },
  {
   "cell_type": "code",
   "execution_count": 9,
   "metadata": {},
   "outputs": [
    {
     "name": "stderr",
     "output_type": "stream",
     "text": [
      "/home/andrew/anaconda3/lib/python3.7/site-packages/pandas/core/indexing.py:670: SettingWithCopyWarning: \n",
      "A value is trying to be set on a copy of a slice from a DataFrame\n",
      "\n",
      "See the caveats in the documentation: https://pandas.pydata.org/pandas-docs/stable/user_guide/indexing.html#returning-a-view-versus-a-copy\n",
      "  self._setitem_with_indexer(indexer, value)\n"
     ]
    }
   ],
   "source": [
    "registrations_df['NotNullRecords'] = np.where(((registrations_df.name.isna() == False) &\n",
    "                                              (registrations_df.email.isna() == False) &\n",
    "                                              (registrations_df.age.isna() == False)), '', 'NotNullRecords')\n",
    "\n",
    "registrations_df['OnlyLettersInNames'] = ~registrations_df.name.str.isalpha()\n",
    "registrations_df['OnlyLettersInNames'].loc[registrations_df['OnlyLettersInNames'] == True] = 'OnlyLettersInNames'\n",
    "registrations_df['OnlyLettersInNames'].loc[registrations_df['OnlyLettersInNames'] == False] = ''\n",
    "\n",
    "registrations_df['CheckEmail'] = np.where(registrations_df.email.str.contains(pat = ('[@.]'), regex = True), '', 'CheckEmail')\n",
    "\n",
    "registrations_df['CheckAge'] = registrations_df.apply(CheckAges, axis=1)"
   ]
  },
  {
   "cell_type": "code",
   "execution_count": 10,
   "metadata": {},
   "outputs": [],
   "source": [
    "good_df = registrations_df[['name', 'email', 'age']][(registrations_df['NotNullRecords'] == 'False') & \n",
    "                                                    (registrations_df['OnlyLettersInNames'] == 'False') &\n",
    "                                                    (registrations_df['CheckEmail'] == 'False') &\n",
    "                                                    (registrations_df['CheckAge'] == 'False')]"
   ]
  },
  {
   "cell_type": "code",
   "execution_count": 11,
   "metadata": {},
   "outputs": [
    {
     "name": "stderr",
     "output_type": "stream",
     "text": [
      "/home/andrew/anaconda3/lib/python3.7/site-packages/ipykernel_launcher.py:6: SettingWithCopyWarning: \n",
      "A value is trying to be set on a copy of a slice from a DataFrame.\n",
      "Try using .loc[row_indexer,col_indexer] = value instead\n",
      "\n",
      "See the caveats in the documentation: https://pandas.pydata.org/pandas-docs/stable/user_guide/indexing.html#returning-a-view-versus-a-copy\n",
      "  \n"
     ]
    }
   ],
   "source": [
    "bad_df_temp = registrations_df[((registrations_df['NotNullRecords'] == 'NotNullRecords') |\n",
    "                          (registrations_df['OnlyLettersInNames'] == 'OnlyLettersInNames') |\n",
    "                          (registrations_df['CheckEmail'] == 'CheckEmail') |\n",
    "                          (registrations_df['CheckAge'] == 'CheckAge'))]\n",
    "\n",
    "bad_df_temp['ErrorType'] = bad_df_temp.apply(ErrorsRow, axis=1)\n",
    "\n",
    "bad_df = bad_df_temp[['name', 'email', 'age', 'ErrorType']]"
   ]
  },
  {
   "cell_type": "code",
   "execution_count": 12,
   "metadata": {},
   "outputs": [],
   "source": [
    "good_df.to_csv('registrations_good.log', header=False, columns=['name', 'email', 'age'], index=False)"
   ]
  },
  {
   "cell_type": "code",
   "execution_count": 13,
   "metadata": {},
   "outputs": [],
   "source": [
    "bad_df.to_csv('registrations_bad.log', header=False, columns=['name', 'email', 'age', 'ErrorType'], index=False)"
   ]
  },
  {
   "cell_type": "code",
   "execution_count": null,
   "metadata": {},
   "outputs": [],
   "source": []
  },
  {
   "cell_type": "code",
   "execution_count": 14,
   "metadata": {},
   "outputs": [],
   "source": [
    "# Валидация"
   ]
  },
  {
   "cell_type": "code",
   "execution_count": 15,
   "metadata": {},
   "outputs": [],
   "source": [
    "def NotNullValidation(pd_obj):\n",
    "    control_list = [None] * len(pd_obj)\n",
    "    memory_list = list(pd_obj)\n",
    "    try:\n",
    "        pd_obj = control_list\n",
    "    except ValueError:\n",
    "        print('ValueError')"
   ]
  },
  {
   "cell_type": "code",
   "execution_count": 16,
   "metadata": {},
   "outputs": [],
   "source": [
    "class Validator:\n",
    "    \n",
    "    def __init__(self, filename):\n",
    "        try:\n",
    "            self.validating_data = pd.read_csv(filename, header=None)\n",
    "        except FileNotFoundError:\n",
    "            print('Файл не найден')\n",
    "        \n",
    "    def validate(self, record_num):\n",
    "        validate_list = self.validating_data.iloc[record_num].to_list()\n",
    "        print(validate_list)\n",
    "        \n",
    "        for i in range(self.validating_data.shape[1]):\n",
    "            if validate_list[i] != validate_list[i]:\n",
    "                raise ValueError('Не все поля присутствуют в записи')\n",
    "        \n",
    "        if validate_list[0].isalpha() == False:\n",
    "            raise NameError('Имя состоит не только из букв')\n",
    "        \n",
    "        if (('@' not in validate_list[1]) | ('.' not in validate_list[1])):\n",
    "            raise NameError('Некорректный адрес электронной почты')\n",
    "\n",
    "        try:\n",
    "            age = int(validate_list[2])\n",
    "        except:\n",
    "            ValueError('Возраст не является числом от 10 до 99')\n",
    "        \n",
    "        if ((age < 10) | (age > 99)):\n",
    "            raise ValueError('Возраст не является числом от 10 до 99')\n",
    "        print('Запись корректная')"
   ]
  },
  {
   "cell_type": "code",
   "execution_count": 17,
   "metadata": {
    "scrolled": true
   },
   "outputs": [
    {
     "data": {
      "text/html": [
       "<div>\n",
       "<style scoped>\n",
       "    .dataframe tbody tr th:only-of-type {\n",
       "        vertical-align: middle;\n",
       "    }\n",
       "\n",
       "    .dataframe tbody tr th {\n",
       "        vertical-align: top;\n",
       "    }\n",
       "\n",
       "    .dataframe thead th {\n",
       "        text-align: right;\n",
       "    }\n",
       "</style>\n",
       "<table border=\"1\" class=\"dataframe\">\n",
       "  <thead>\n",
       "    <tr style=\"text-align: right;\">\n",
       "      <th></th>\n",
       "      <th>0</th>\n",
       "      <th>1</th>\n",
       "      <th>2</th>\n",
       "      <th>3</th>\n",
       "    </tr>\n",
       "  </thead>\n",
       "  <tbody>\n",
       "    <tr>\n",
       "      <th>0</th>\n",
       "      <td>Пенг42</td>\n",
       "      <td>euxtjquwo@mail.ru</td>\n",
       "      <td>32</td>\n",
       "      <td>OnlyLettersInNames</td>\n",
       "    </tr>\n",
       "    <tr>\n",
       "      <th>1</th>\n",
       "      <td>Владимир</td>\n",
       "      <td>8</td>\n",
       "      <td>gumxfigvam</td>\n",
       "      <td>CheckEmail CheckAge</td>\n",
       "    </tr>\n",
       "    <tr>\n",
       "      <th>2</th>\n",
       "      <td>Джамшут</td>\n",
       "      <td>tyyolvkn@ya.ru</td>\n",
       "      <td>7</td>\n",
       "      <td>CheckAge</td>\n",
       "    </tr>\n",
       "    <tr>\n",
       "      <th>3</th>\n",
       "      <td>Дмитрий</td>\n",
       "      <td>sdw@gmail.com</td>\n",
       "      <td>101</td>\n",
       "      <td>CheckAge</td>\n",
       "    </tr>\n",
       "    <tr>\n",
       "      <th>4</th>\n",
       "      <td>Ольга</td>\n",
       "      <td>kbzjth</td>\n",
       "      <td>13</td>\n",
       "      <td>CheckEmail</td>\n",
       "    </tr>\n",
       "    <tr>\n",
       "      <th>...</th>\n",
       "      <td>...</td>\n",
       "      <td>...</td>\n",
       "      <td>...</td>\n",
       "      <td>...</td>\n",
       "    </tr>\n",
       "    <tr>\n",
       "      <th>1326</th>\n",
       "      <td>Волочкова</td>\n",
       "      <td>mnu@mail.ru</td>\n",
       "      <td>8</td>\n",
       "      <td>CheckAge</td>\n",
       "    </tr>\n",
       "    <tr>\n",
       "      <th>1327</th>\n",
       "      <td>Геннадий</td>\n",
       "      <td>coyuq@gmail.com</td>\n",
       "      <td>99</td>\n",
       "      <td>CheckAge</td>\n",
       "    </tr>\n",
       "    <tr>\n",
       "      <th>1328</th>\n",
       "      <td>Ли42</td>\n",
       "      <td>vqffrrlfh@gmail.com</td>\n",
       "      <td>99</td>\n",
       "      <td>OnlyLettersInNames CheckAge</td>\n",
       "    </tr>\n",
       "    <tr>\n",
       "      <th>1329</th>\n",
       "      <td>Тролль666</td>\n",
       "      <td>se@mail.ru</td>\n",
       "      <td>52</td>\n",
       "      <td>OnlyLettersInNames</td>\n",
       "    </tr>\n",
       "    <tr>\n",
       "      <th>1330</th>\n",
       "      <td>Дмитрий</td>\n",
       "      <td>xayinimkz@mail.ru</td>\n",
       "      <td>7</td>\n",
       "      <td>CheckAge</td>\n",
       "    </tr>\n",
       "  </tbody>\n",
       "</table>\n",
       "<p>1331 rows × 4 columns</p>\n",
       "</div>"
      ],
      "text/plain": [
       "              0                    1           2                            3\n",
       "0        Пенг42    euxtjquwo@mail.ru          32           OnlyLettersInNames\n",
       "1      Владимир                    8  gumxfigvam          CheckEmail CheckAge\n",
       "2       Джамшут       tyyolvkn@ya.ru           7                     CheckAge\n",
       "3       Дмитрий        sdw@gmail.com         101                     CheckAge\n",
       "4         Ольга               kbzjth          13                   CheckEmail\n",
       "...         ...                  ...         ...                          ...\n",
       "1326  Волочкова          mnu@mail.ru           8                     CheckAge\n",
       "1327   Геннадий      coyuq@gmail.com          99                     CheckAge\n",
       "1328       Ли42  vqffrrlfh@gmail.com          99  OnlyLettersInNames CheckAge\n",
       "1329  Тролль666           se@mail.ru          52           OnlyLettersInNames\n",
       "1330    Дмитрий    xayinimkz@mail.ru           7                     CheckAge\n",
       "\n",
       "[1331 rows x 4 columns]"
      ]
     },
     "execution_count": 17,
     "metadata": {},
     "output_type": "execute_result"
    }
   ],
   "source": [
    "test = Validator('registrations_bad.log')\n",
    "test.validating_data"
   ]
  },
  {
   "cell_type": "code",
   "execution_count": 18,
   "metadata": {},
   "outputs": [
    {
     "name": "stdout",
     "output_type": "stream",
     "text": [
      "['Волочкова', 'tuufq@ya.ru', '99', 'CheckAge']\n",
      "Запись корректная\n"
     ]
    }
   ],
   "source": [
    "test.validate(102)"
   ]
  },
  {
   "cell_type": "code",
   "execution_count": 19,
   "metadata": {},
   "outputs": [
    {
     "name": "stdout",
     "output_type": "stream",
     "text": [
      "['41', 'wks@gmail.com', nan, 'NotNullRecords OnlyLettersInNames CheckAge']\n"
     ]
    },
    {
     "ename": "ValueError",
     "evalue": "Не все поля присутствуют в записи",
     "output_type": "error",
     "traceback": [
      "\u001b[0;31m---------------------------------------------------------------------------\u001b[0m",
      "\u001b[0;31mValueError\u001b[0m                                Traceback (most recent call last)",
      "\u001b[0;32m<ipython-input-19-8088f3a31795>\u001b[0m in \u001b[0;36m<module>\u001b[0;34m\u001b[0m\n\u001b[0;32m----> 1\u001b[0;31m \u001b[0mtest\u001b[0m\u001b[0;34m.\u001b[0m\u001b[0mvalidate\u001b[0m\u001b[0;34m(\u001b[0m\u001b[0;36m21\u001b[0m\u001b[0;34m)\u001b[0m\u001b[0;34m\u001b[0m\u001b[0;34m\u001b[0m\u001b[0m\n\u001b[0m",
      "\u001b[0;32m<ipython-input-16-c4ec8fa0e637>\u001b[0m in \u001b[0;36mvalidate\u001b[0;34m(self, record_num)\u001b[0m\n\u001b[1;32m     13\u001b[0m         \u001b[0;32mfor\u001b[0m \u001b[0mi\u001b[0m \u001b[0;32min\u001b[0m \u001b[0mrange\u001b[0m\u001b[0;34m(\u001b[0m\u001b[0mself\u001b[0m\u001b[0;34m.\u001b[0m\u001b[0mvalidating_data\u001b[0m\u001b[0;34m.\u001b[0m\u001b[0mshape\u001b[0m\u001b[0;34m[\u001b[0m\u001b[0;36m1\u001b[0m\u001b[0;34m]\u001b[0m\u001b[0;34m)\u001b[0m\u001b[0;34m:\u001b[0m\u001b[0;34m\u001b[0m\u001b[0;34m\u001b[0m\u001b[0m\n\u001b[1;32m     14\u001b[0m             \u001b[0;32mif\u001b[0m \u001b[0mvalidate_list\u001b[0m\u001b[0;34m[\u001b[0m\u001b[0mi\u001b[0m\u001b[0;34m]\u001b[0m \u001b[0;34m!=\u001b[0m \u001b[0mvalidate_list\u001b[0m\u001b[0;34m[\u001b[0m\u001b[0mi\u001b[0m\u001b[0;34m]\u001b[0m\u001b[0;34m:\u001b[0m\u001b[0;34m\u001b[0m\u001b[0;34m\u001b[0m\u001b[0m\n\u001b[0;32m---> 15\u001b[0;31m                 \u001b[0;32mraise\u001b[0m \u001b[0mValueError\u001b[0m\u001b[0;34m(\u001b[0m\u001b[0;34m'Не все поля присутствуют в записи'\u001b[0m\u001b[0;34m)\u001b[0m\u001b[0;34m\u001b[0m\u001b[0;34m\u001b[0m\u001b[0m\n\u001b[0m\u001b[1;32m     16\u001b[0m \u001b[0;34m\u001b[0m\u001b[0m\n\u001b[1;32m     17\u001b[0m         \u001b[0;32mif\u001b[0m \u001b[0mvalidate_list\u001b[0m\u001b[0;34m[\u001b[0m\u001b[0;36m0\u001b[0m\u001b[0;34m]\u001b[0m\u001b[0;34m.\u001b[0m\u001b[0misalpha\u001b[0m\u001b[0;34m(\u001b[0m\u001b[0;34m)\u001b[0m \u001b[0;34m==\u001b[0m \u001b[0;32mFalse\u001b[0m\u001b[0;34m:\u001b[0m\u001b[0;34m\u001b[0m\u001b[0;34m\u001b[0m\u001b[0m\n",
      "\u001b[0;31mValueError\u001b[0m: Не все поля присутствуют в записи"
     ]
    }
   ],
   "source": [
    "test.validate(21)"
   ]
  },
  {
   "cell_type": "code",
   "execution_count": 20,
   "metadata": {},
   "outputs": [
    {
     "name": "stdout",
     "output_type": "stream",
     "text": [
      "['37', nan, nan, 'NotNullRecords OnlyLettersInNames CheckAge']\n"
     ]
    },
    {
     "ename": "ValueError",
     "evalue": "Не все поля присутствуют в записи",
     "output_type": "error",
     "traceback": [
      "\u001b[0;31m---------------------------------------------------------------------------\u001b[0m",
      "\u001b[0;31mValueError\u001b[0m                                Traceback (most recent call last)",
      "\u001b[0;32m<ipython-input-20-6d916af7d5c9>\u001b[0m in \u001b[0;36m<module>\u001b[0;34m\u001b[0m\n\u001b[0;32m----> 1\u001b[0;31m \u001b[0mtest\u001b[0m\u001b[0;34m.\u001b[0m\u001b[0mvalidate\u001b[0m\u001b[0;34m(\u001b[0m\u001b[0;36m100\u001b[0m\u001b[0;34m)\u001b[0m\u001b[0;34m\u001b[0m\u001b[0;34m\u001b[0m\u001b[0m\n\u001b[0m",
      "\u001b[0;32m<ipython-input-16-c4ec8fa0e637>\u001b[0m in \u001b[0;36mvalidate\u001b[0;34m(self, record_num)\u001b[0m\n\u001b[1;32m     13\u001b[0m         \u001b[0;32mfor\u001b[0m \u001b[0mi\u001b[0m \u001b[0;32min\u001b[0m \u001b[0mrange\u001b[0m\u001b[0;34m(\u001b[0m\u001b[0mself\u001b[0m\u001b[0;34m.\u001b[0m\u001b[0mvalidating_data\u001b[0m\u001b[0;34m.\u001b[0m\u001b[0mshape\u001b[0m\u001b[0;34m[\u001b[0m\u001b[0;36m1\u001b[0m\u001b[0;34m]\u001b[0m\u001b[0;34m)\u001b[0m\u001b[0;34m:\u001b[0m\u001b[0;34m\u001b[0m\u001b[0;34m\u001b[0m\u001b[0m\n\u001b[1;32m     14\u001b[0m             \u001b[0;32mif\u001b[0m \u001b[0mvalidate_list\u001b[0m\u001b[0;34m[\u001b[0m\u001b[0mi\u001b[0m\u001b[0;34m]\u001b[0m \u001b[0;34m!=\u001b[0m \u001b[0mvalidate_list\u001b[0m\u001b[0;34m[\u001b[0m\u001b[0mi\u001b[0m\u001b[0;34m]\u001b[0m\u001b[0;34m:\u001b[0m\u001b[0;34m\u001b[0m\u001b[0;34m\u001b[0m\u001b[0m\n\u001b[0;32m---> 15\u001b[0;31m                 \u001b[0;32mraise\u001b[0m \u001b[0mValueError\u001b[0m\u001b[0;34m(\u001b[0m\u001b[0;34m'Не все поля присутствуют в записи'\u001b[0m\u001b[0;34m)\u001b[0m\u001b[0;34m\u001b[0m\u001b[0;34m\u001b[0m\u001b[0m\n\u001b[0m\u001b[1;32m     16\u001b[0m \u001b[0;34m\u001b[0m\u001b[0m\n\u001b[1;32m     17\u001b[0m         \u001b[0;32mif\u001b[0m \u001b[0mvalidate_list\u001b[0m\u001b[0;34m[\u001b[0m\u001b[0;36m0\u001b[0m\u001b[0;34m]\u001b[0m\u001b[0;34m.\u001b[0m\u001b[0misalpha\u001b[0m\u001b[0;34m(\u001b[0m\u001b[0;34m)\u001b[0m \u001b[0;34m==\u001b[0m \u001b[0;32mFalse\u001b[0m\u001b[0;34m:\u001b[0m\u001b[0;34m\u001b[0m\u001b[0;34m\u001b[0m\u001b[0m\n",
      "\u001b[0;31mValueError\u001b[0m: Не все поля присутствуют в записи"
     ]
    }
   ],
   "source": [
    "test.validate(100)"
   ]
  },
  {
   "cell_type": "code",
   "execution_count": 21,
   "metadata": {},
   "outputs": [
    {
     "name": "stdout",
     "output_type": "stream",
     "text": [
      "['Владимир', 'zwmnwxc', '69', 'CheckEmail']\n"
     ]
    },
    {
     "ename": "NameError",
     "evalue": "Некорректный адрес электронной почты",
     "output_type": "error",
     "traceback": [
      "\u001b[0;31m---------------------------------------------------------------------------\u001b[0m",
      "\u001b[0;31mNameError\u001b[0m                                 Traceback (most recent call last)",
      "\u001b[0;32m<ipython-input-21-a5518f7a8ddd>\u001b[0m in \u001b[0;36m<module>\u001b[0;34m\u001b[0m\n\u001b[0;32m----> 1\u001b[0;31m \u001b[0mtest\u001b[0m\u001b[0;34m.\u001b[0m\u001b[0mvalidate\u001b[0m\u001b[0;34m(\u001b[0m\u001b[0;36m109\u001b[0m\u001b[0;34m)\u001b[0m\u001b[0;34m\u001b[0m\u001b[0;34m\u001b[0m\u001b[0m\n\u001b[0m",
      "\u001b[0;32m<ipython-input-16-c4ec8fa0e637>\u001b[0m in \u001b[0;36mvalidate\u001b[0;34m(self, record_num)\u001b[0m\n\u001b[1;32m     19\u001b[0m \u001b[0;34m\u001b[0m\u001b[0m\n\u001b[1;32m     20\u001b[0m         \u001b[0;32mif\u001b[0m \u001b[0;34m(\u001b[0m\u001b[0;34m(\u001b[0m\u001b[0;34m'@'\u001b[0m \u001b[0;32mnot\u001b[0m \u001b[0;32min\u001b[0m \u001b[0mvalidate_list\u001b[0m\u001b[0;34m[\u001b[0m\u001b[0;36m1\u001b[0m\u001b[0;34m]\u001b[0m\u001b[0;34m)\u001b[0m \u001b[0;34m|\u001b[0m \u001b[0;34m(\u001b[0m\u001b[0;34m'.'\u001b[0m \u001b[0;32mnot\u001b[0m \u001b[0;32min\u001b[0m \u001b[0mvalidate_list\u001b[0m\u001b[0;34m[\u001b[0m\u001b[0;36m1\u001b[0m\u001b[0;34m]\u001b[0m\u001b[0;34m)\u001b[0m\u001b[0;34m)\u001b[0m\u001b[0;34m:\u001b[0m\u001b[0;34m\u001b[0m\u001b[0;34m\u001b[0m\u001b[0m\n\u001b[0;32m---> 21\u001b[0;31m             \u001b[0;32mraise\u001b[0m \u001b[0mNameError\u001b[0m\u001b[0;34m(\u001b[0m\u001b[0;34m'Некорректный адрес электронной почты'\u001b[0m\u001b[0;34m)\u001b[0m\u001b[0;34m\u001b[0m\u001b[0;34m\u001b[0m\u001b[0m\n\u001b[0m\u001b[1;32m     22\u001b[0m \u001b[0;34m\u001b[0m\u001b[0m\n\u001b[1;32m     23\u001b[0m         \u001b[0;32mtry\u001b[0m\u001b[0;34m:\u001b[0m\u001b[0;34m\u001b[0m\u001b[0;34m\u001b[0m\u001b[0m\n",
      "\u001b[0;31mNameError\u001b[0m: Некорректный адрес электронной почты"
     ]
    }
   ],
   "source": [
    "test.validate(109)"
   ]
  },
  {
   "cell_type": "code",
   "execution_count": 22,
   "metadata": {},
   "outputs": [
    {
     "name": "stdout",
     "output_type": "stream",
     "text": [
      "['Ярослав', 'zektqtg@ya.ru', '100', 'CheckAge']\n"
     ]
    },
    {
     "ename": "ValueError",
     "evalue": "Возраст не является числом от 10 до 99",
     "output_type": "error",
     "traceback": [
      "\u001b[0;31m---------------------------------------------------------------------------\u001b[0m",
      "\u001b[0;31mValueError\u001b[0m                                Traceback (most recent call last)",
      "\u001b[0;32m<ipython-input-22-eb2b277d0942>\u001b[0m in \u001b[0;36m<module>\u001b[0;34m\u001b[0m\n\u001b[0;32m----> 1\u001b[0;31m \u001b[0mtest\u001b[0m\u001b[0;34m.\u001b[0m\u001b[0mvalidate\u001b[0m\u001b[0;34m(\u001b[0m\u001b[0;36m103\u001b[0m\u001b[0;34m)\u001b[0m\u001b[0;34m\u001b[0m\u001b[0;34m\u001b[0m\u001b[0m\n\u001b[0m",
      "\u001b[0;32m<ipython-input-16-c4ec8fa0e637>\u001b[0m in \u001b[0;36mvalidate\u001b[0;34m(self, record_num)\u001b[0m\n\u001b[1;32m     27\u001b[0m \u001b[0;34m\u001b[0m\u001b[0m\n\u001b[1;32m     28\u001b[0m         \u001b[0;32mif\u001b[0m \u001b[0;34m(\u001b[0m\u001b[0;34m(\u001b[0m\u001b[0mage\u001b[0m \u001b[0;34m<\u001b[0m \u001b[0;36m10\u001b[0m\u001b[0;34m)\u001b[0m \u001b[0;34m|\u001b[0m \u001b[0;34m(\u001b[0m\u001b[0mage\u001b[0m \u001b[0;34m>\u001b[0m \u001b[0;36m99\u001b[0m\u001b[0;34m)\u001b[0m\u001b[0;34m)\u001b[0m\u001b[0;34m:\u001b[0m\u001b[0;34m\u001b[0m\u001b[0;34m\u001b[0m\u001b[0m\n\u001b[0;32m---> 29\u001b[0;31m             \u001b[0;32mraise\u001b[0m \u001b[0mValueError\u001b[0m\u001b[0;34m(\u001b[0m\u001b[0;34m'Возраст не является числом от 10 до 99'\u001b[0m\u001b[0;34m)\u001b[0m\u001b[0;34m\u001b[0m\u001b[0;34m\u001b[0m\u001b[0m\n\u001b[0m\u001b[1;32m     30\u001b[0m         \u001b[0mprint\u001b[0m\u001b[0;34m(\u001b[0m\u001b[0;34m'Запись корректная'\u001b[0m\u001b[0;34m)\u001b[0m\u001b[0;34m\u001b[0m\u001b[0;34m\u001b[0m\u001b[0m\n",
      "\u001b[0;31mValueError\u001b[0m: Возраст не является числом от 10 до 99"
     ]
    }
   ],
   "source": [
    "test.validate(103)"
   ]
  },
  {
   "cell_type": "code",
   "execution_count": 23,
   "metadata": {
    "scrolled": true
   },
   "outputs": [
    {
     "data": {
      "text/html": [
       "<div>\n",
       "<style scoped>\n",
       "    .dataframe tbody tr th:only-of-type {\n",
       "        vertical-align: middle;\n",
       "    }\n",
       "\n",
       "    .dataframe tbody tr th {\n",
       "        vertical-align: top;\n",
       "    }\n",
       "\n",
       "    .dataframe thead th {\n",
       "        text-align: right;\n",
       "    }\n",
       "</style>\n",
       "<table border=\"1\" class=\"dataframe\">\n",
       "  <thead>\n",
       "    <tr style=\"text-align: right;\">\n",
       "      <th></th>\n",
       "      <th>0</th>\n",
       "      <th>1</th>\n",
       "      <th>2</th>\n",
       "      <th>3</th>\n",
       "    </tr>\n",
       "  </thead>\n",
       "  <tbody>\n",
       "    <tr>\n",
       "      <th>100</th>\n",
       "      <td>37</td>\n",
       "      <td>NaN</td>\n",
       "      <td>NaN</td>\n",
       "      <td>NotNullRecords OnlyLettersInNames CheckAge</td>\n",
       "    </tr>\n",
       "    <tr>\n",
       "      <th>101</th>\n",
       "      <td>Владимир</td>\n",
       "      <td>NaN</td>\n",
       "      <td>NaN</td>\n",
       "      <td>NotNullRecords CheckAge</td>\n",
       "    </tr>\n",
       "    <tr>\n",
       "      <th>102</th>\n",
       "      <td>Волочкова</td>\n",
       "      <td>tuufq@ya.ru</td>\n",
       "      <td>99</td>\n",
       "      <td>CheckAge</td>\n",
       "    </tr>\n",
       "    <tr>\n",
       "      <th>103</th>\n",
       "      <td>Ярослав</td>\n",
       "      <td>zektqtg@ya.ru</td>\n",
       "      <td>100</td>\n",
       "      <td>CheckAge</td>\n",
       "    </tr>\n",
       "    <tr>\n",
       "      <th>104</th>\n",
       "      <td>Чонгкун</td>\n",
       "      <td>tarrec@ya.ru</td>\n",
       "      <td>99</td>\n",
       "      <td>CheckAge</td>\n",
       "    </tr>\n",
       "    <tr>\n",
       "      <th>105</th>\n",
       "      <td>Ли</td>\n",
       "      <td>fnz@ya.ru</td>\n",
       "      <td>7</td>\n",
       "      <td>CheckAge</td>\n",
       "    </tr>\n",
       "    <tr>\n",
       "      <th>106</th>\n",
       "      <td>Ярослав</td>\n",
       "      <td>jjeowwmen</td>\n",
       "      <td>75</td>\n",
       "      <td>CheckEmail</td>\n",
       "    </tr>\n",
       "    <tr>\n",
       "      <th>107</th>\n",
       "      <td>Пенг</td>\n",
       "      <td>qlxws@gmail.com</td>\n",
       "      <td>7</td>\n",
       "      <td>CheckAge</td>\n",
       "    </tr>\n",
       "    <tr>\n",
       "      <th>108</th>\n",
       "      <td>Геннадий!!!!1</td>\n",
       "      <td>oqkolaurl@mail.ru</td>\n",
       "      <td>16</td>\n",
       "      <td>OnlyLettersInNames</td>\n",
       "    </tr>\n",
       "    <tr>\n",
       "      <th>109</th>\n",
       "      <td>Владимир</td>\n",
       "      <td>zwmnwxc</td>\n",
       "      <td>69</td>\n",
       "      <td>CheckEmail</td>\n",
       "    </tr>\n",
       "    <tr>\n",
       "      <th>110</th>\n",
       "      <td>Джигурда</td>\n",
       "      <td>xoq@gmail.com</td>\n",
       "      <td>7</td>\n",
       "      <td>CheckAge</td>\n",
       "    </tr>\n",
       "    <tr>\n",
       "      <th>111</th>\n",
       "      <td>Артём</td>\n",
       "      <td>ucgzuvud@gmail.com</td>\n",
       "      <td>9</td>\n",
       "      <td>CheckAge</td>\n",
       "    </tr>\n",
       "    <tr>\n",
       "      <th>112</th>\n",
       "      <td>Земфира</td>\n",
       "      <td>33</td>\n",
       "      <td>xavvzbe@mail.ru</td>\n",
       "      <td>CheckEmail CheckAge</td>\n",
       "    </tr>\n",
       "    <tr>\n",
       "      <th>113</th>\n",
       "      <td>Гнойный666</td>\n",
       "      <td>dhqinljcm@ya.ru</td>\n",
       "      <td>86</td>\n",
       "      <td>OnlyLettersInNames</td>\n",
       "    </tr>\n",
       "    <tr>\n",
       "      <th>114</th>\n",
       "      <td>Мария</td>\n",
       "      <td>obv@gmail.com</td>\n",
       "      <td>99</td>\n",
       "      <td>CheckAge</td>\n",
       "    </tr>\n",
       "    <tr>\n",
       "      <th>115</th>\n",
       "      <td>Чонгкун</td>\n",
       "      <td>ydnpabs@ya.ru</td>\n",
       "      <td>99</td>\n",
       "      <td>CheckAge</td>\n",
       "    </tr>\n",
       "    <tr>\n",
       "      <th>116</th>\n",
       "      <td>Степан</td>\n",
       "      <td>doddcyqspo</td>\n",
       "      <td>86</td>\n",
       "      <td>CheckEmail</td>\n",
       "    </tr>\n",
       "    <tr>\n",
       "      <th>117</th>\n",
       "      <td>Пенг</td>\n",
       "      <td>lfjzkftwfn@ya.ru</td>\n",
       "      <td>8</td>\n",
       "      <td>CheckAge</td>\n",
       "    </tr>\n",
       "    <tr>\n",
       "      <th>118</th>\n",
       "      <td>Муммий</td>\n",
       "      <td>kwsdchxc@mail.ru</td>\n",
       "      <td>8</td>\n",
       "      <td>CheckAge</td>\n",
       "    </tr>\n",
       "    <tr>\n",
       "      <th>119</th>\n",
       "      <td>Пенг</td>\n",
       "      <td>ycvfigvam</td>\n",
       "      <td>91</td>\n",
       "      <td>CheckEmail</td>\n",
       "    </tr>\n",
       "    <tr>\n",
       "      <th>120</th>\n",
       "      <td>Мария</td>\n",
       "      <td>uslq@ya.ru</td>\n",
       "      <td>9</td>\n",
       "      <td>CheckAge</td>\n",
       "    </tr>\n",
       "    <tr>\n",
       "      <th>121</th>\n",
       "      <td>Мария666</td>\n",
       "      <td>ax@ya.ru</td>\n",
       "      <td>10</td>\n",
       "      <td>OnlyLettersInNames CheckAge</td>\n",
       "    </tr>\n",
       "    <tr>\n",
       "      <th>122</th>\n",
       "      <td>Джигурда</td>\n",
       "      <td>ly@gmail.com</td>\n",
       "      <td>99</td>\n",
       "      <td>CheckAge</td>\n",
       "    </tr>\n",
       "    <tr>\n",
       "      <th>123</th>\n",
       "      <td>Ольга666</td>\n",
       "      <td>xhpowfavv@mail.ru</td>\n",
       "      <td>16</td>\n",
       "      <td>OnlyLettersInNames</td>\n",
       "    </tr>\n",
       "    <tr>\n",
       "      <th>124</th>\n",
       "      <td>Степан</td>\n",
       "      <td>btscwz@mail.ru</td>\n",
       "      <td>101</td>\n",
       "      <td>CheckAge</td>\n",
       "    </tr>\n",
       "    <tr>\n",
       "      <th>125</th>\n",
       "      <td>51</td>\n",
       "      <td>NaN</td>\n",
       "      <td>NaN</td>\n",
       "      <td>NotNullRecords OnlyLettersInNames CheckAge</td>\n",
       "    </tr>\n",
       "    <tr>\n",
       "      <th>126</th>\n",
       "      <td>Чонгкун</td>\n",
       "      <td>jiqwzjx</td>\n",
       "      <td>63</td>\n",
       "      <td>CheckEmail</td>\n",
       "    </tr>\n",
       "    <tr>\n",
       "      <th>127</th>\n",
       "      <td>Яочуан</td>\n",
       "      <td>mtgjp@mail.ru</td>\n",
       "      <td>101</td>\n",
       "      <td>CheckAge</td>\n",
       "    </tr>\n",
       "    <tr>\n",
       "      <th>128</th>\n",
       "      <td>Ольга</td>\n",
       "      <td>aorfimupuq@ya.ru</td>\n",
       "      <td>100</td>\n",
       "      <td>CheckAge</td>\n",
       "    </tr>\n",
       "    <tr>\n",
       "      <th>129</th>\n",
       "      <td>Равшан</td>\n",
       "      <td>qwj@gmail.com</td>\n",
       "      <td>101</td>\n",
       "      <td>CheckAge</td>\n",
       "    </tr>\n",
       "    <tr>\n",
       "      <th>130</th>\n",
       "      <td>Равшан!!!!1</td>\n",
       "      <td>ee@gmail.com</td>\n",
       "      <td>57</td>\n",
       "      <td>OnlyLettersInNames</td>\n",
       "    </tr>\n",
       "    <tr>\n",
       "      <th>131</th>\n",
       "      <td>Бузова</td>\n",
       "      <td>aquuftkrh@gmail.com</td>\n",
       "      <td>NaN</td>\n",
       "      <td>NotNullRecords CheckAge</td>\n",
       "    </tr>\n",
       "    <tr>\n",
       "      <th>132</th>\n",
       "      <td>Геннадий</td>\n",
       "      <td>36</td>\n",
       "      <td>nfsxqtabzt@gmail.com</td>\n",
       "      <td>CheckEmail CheckAge</td>\n",
       "    </tr>\n",
       "    <tr>\n",
       "      <th>133</th>\n",
       "      <td>Михаил</td>\n",
       "      <td>hidos@gmail.com</td>\n",
       "      <td>101</td>\n",
       "      <td>CheckAge</td>\n",
       "    </tr>\n",
       "    <tr>\n",
       "      <th>134</th>\n",
       "      <td>Ли</td>\n",
       "      <td>teeghrgwtb@mail.ru</td>\n",
       "      <td>10</td>\n",
       "      <td>CheckAge</td>\n",
       "    </tr>\n",
       "    <tr>\n",
       "      <th>135</th>\n",
       "      <td>Бузова</td>\n",
       "      <td>roj@gmail.com</td>\n",
       "      <td>10</td>\n",
       "      <td>CheckAge</td>\n",
       "    </tr>\n",
       "    <tr>\n",
       "      <th>136</th>\n",
       "      <td>Михаил666</td>\n",
       "      <td>pvabwwymp@gmail.com</td>\n",
       "      <td>88</td>\n",
       "      <td>OnlyLettersInNames</td>\n",
       "    </tr>\n",
       "    <tr>\n",
       "      <th>137</th>\n",
       "      <td>Нагиев666</td>\n",
       "      <td>xwnmfigvam</td>\n",
       "      <td>59</td>\n",
       "      <td>OnlyLettersInNames CheckEmail</td>\n",
       "    </tr>\n",
       "    <tr>\n",
       "      <th>138</th>\n",
       "      <td>Муммий!!!!1</td>\n",
       "      <td>tsfowgyt@ya.ru</td>\n",
       "      <td>89</td>\n",
       "      <td>OnlyLettersInNames</td>\n",
       "    </tr>\n",
       "    <tr>\n",
       "      <th>139</th>\n",
       "      <td>Равшан666</td>\n",
       "      <td>evayobrerz@mail.ru</td>\n",
       "      <td>52</td>\n",
       "      <td>OnlyLettersInNames</td>\n",
       "    </tr>\n",
       "    <tr>\n",
       "      <th>140</th>\n",
       "      <td>Нагиев</td>\n",
       "      <td>72</td>\n",
       "      <td>crek@ya.ru</td>\n",
       "      <td>CheckEmail CheckAge</td>\n",
       "    </tr>\n",
       "    <tr>\n",
       "      <th>141</th>\n",
       "      <td>Тролль</td>\n",
       "      <td>yauqsnry@gmail.com</td>\n",
       "      <td>9</td>\n",
       "      <td>CheckAge</td>\n",
       "    </tr>\n",
       "    <tr>\n",
       "      <th>142</th>\n",
       "      <td>Сянцзян666</td>\n",
       "      <td>phdjniunaf@ya.ru</td>\n",
       "      <td>8</td>\n",
       "      <td>OnlyLettersInNames CheckAge</td>\n",
       "    </tr>\n",
       "    <tr>\n",
       "      <th>143</th>\n",
       "      <td>Сянцзян</td>\n",
       "      <td>nd@gmail.com</td>\n",
       "      <td>10</td>\n",
       "      <td>CheckAge</td>\n",
       "    </tr>\n",
       "    <tr>\n",
       "      <th>144</th>\n",
       "      <td>Хенг</td>\n",
       "      <td>yneo@mail.ru</td>\n",
       "      <td>8</td>\n",
       "      <td>CheckAge</td>\n",
       "    </tr>\n",
       "    <tr>\n",
       "      <th>145</th>\n",
       "      <td>Ли666</td>\n",
       "      <td>ga@gmail.com</td>\n",
       "      <td>46</td>\n",
       "      <td>OnlyLettersInNames</td>\n",
       "    </tr>\n",
       "    <tr>\n",
       "      <th>146</th>\n",
       "      <td>Анна</td>\n",
       "      <td>wkguvadej</td>\n",
       "      <td>8</td>\n",
       "      <td>CheckEmail CheckAge</td>\n",
       "    </tr>\n",
       "    <tr>\n",
       "      <th>147</th>\n",
       "      <td>Равшан42</td>\n",
       "      <td>qrmfi@mail.ru</td>\n",
       "      <td>29</td>\n",
       "      <td>OnlyLettersInNames</td>\n",
       "    </tr>\n",
       "    <tr>\n",
       "      <th>148</th>\n",
       "      <td>Волочкова</td>\n",
       "      <td>42</td>\n",
       "      <td>iqqkfxew@mail.ru</td>\n",
       "      <td>CheckEmail CheckAge</td>\n",
       "    </tr>\n",
       "    <tr>\n",
       "      <th>149</th>\n",
       "      <td>Ольга42</td>\n",
       "      <td>eyplplbdvp@gmail.com</td>\n",
       "      <td>28</td>\n",
       "      <td>OnlyLettersInNames</td>\n",
       "    </tr>\n",
       "    <tr>\n",
       "      <th>150</th>\n",
       "      <td>Земфира</td>\n",
       "      <td>fnlsuuge</td>\n",
       "      <td>48</td>\n",
       "      <td>CheckEmail</td>\n",
       "    </tr>\n",
       "  </tbody>\n",
       "</table>\n",
       "</div>"
      ],
      "text/plain": [
       "                 0                     1                     2  \\\n",
       "100             37                   NaN                   NaN   \n",
       "101       Владимир                   NaN                   NaN   \n",
       "102      Волочкова           tuufq@ya.ru                    99   \n",
       "103        Ярослав         zektqtg@ya.ru                   100   \n",
       "104        Чонгкун          tarrec@ya.ru                    99   \n",
       "105             Ли             fnz@ya.ru                     7   \n",
       "106        Ярослав             jjeowwmen                    75   \n",
       "107           Пенг       qlxws@gmail.com                     7   \n",
       "108  Геннадий!!!!1     oqkolaurl@mail.ru                    16   \n",
       "109       Владимир               zwmnwxc                    69   \n",
       "110       Джигурда         xoq@gmail.com                     7   \n",
       "111          Артём    ucgzuvud@gmail.com                     9   \n",
       "112        Земфира                    33       xavvzbe@mail.ru   \n",
       "113     Гнойный666       dhqinljcm@ya.ru                    86   \n",
       "114          Мария         obv@gmail.com                    99   \n",
       "115        Чонгкун         ydnpabs@ya.ru                    99   \n",
       "116         Степан            doddcyqspo                    86   \n",
       "117           Пенг      lfjzkftwfn@ya.ru                     8   \n",
       "118         Муммий      kwsdchxc@mail.ru                     8   \n",
       "119           Пенг             ycvfigvam                    91   \n",
       "120          Мария            uslq@ya.ru                     9   \n",
       "121       Мария666              ax@ya.ru                    10   \n",
       "122       Джигурда          ly@gmail.com                    99   \n",
       "123       Ольга666     xhpowfavv@mail.ru                    16   \n",
       "124         Степан        btscwz@mail.ru                   101   \n",
       "125             51                   NaN                   NaN   \n",
       "126        Чонгкун               jiqwzjx                    63   \n",
       "127         Яочуан         mtgjp@mail.ru                   101   \n",
       "128          Ольга      aorfimupuq@ya.ru                   100   \n",
       "129         Равшан         qwj@gmail.com                   101   \n",
       "130    Равшан!!!!1          ee@gmail.com                    57   \n",
       "131         Бузова   aquuftkrh@gmail.com                   NaN   \n",
       "132       Геннадий                    36  nfsxqtabzt@gmail.com   \n",
       "133         Михаил       hidos@gmail.com                   101   \n",
       "134             Ли    teeghrgwtb@mail.ru                    10   \n",
       "135         Бузова         roj@gmail.com                    10   \n",
       "136      Михаил666   pvabwwymp@gmail.com                    88   \n",
       "137      Нагиев666            xwnmfigvam                    59   \n",
       "138    Муммий!!!!1        tsfowgyt@ya.ru                    89   \n",
       "139      Равшан666    evayobrerz@mail.ru                    52   \n",
       "140         Нагиев                    72            crek@ya.ru   \n",
       "141         Тролль    yauqsnry@gmail.com                     9   \n",
       "142     Сянцзян666      phdjniunaf@ya.ru                     8   \n",
       "143        Сянцзян          nd@gmail.com                    10   \n",
       "144           Хенг          yneo@mail.ru                     8   \n",
       "145          Ли666          ga@gmail.com                    46   \n",
       "146           Анна             wkguvadej                     8   \n",
       "147       Равшан42         qrmfi@mail.ru                    29   \n",
       "148      Волочкова                    42      iqqkfxew@mail.ru   \n",
       "149        Ольга42  eyplplbdvp@gmail.com                    28   \n",
       "150        Земфира              fnlsuuge                    48   \n",
       "\n",
       "                                              3  \n",
       "100  NotNullRecords OnlyLettersInNames CheckAge  \n",
       "101                     NotNullRecords CheckAge  \n",
       "102                                    CheckAge  \n",
       "103                                    CheckAge  \n",
       "104                                    CheckAge  \n",
       "105                                    CheckAge  \n",
       "106                                  CheckEmail  \n",
       "107                                    CheckAge  \n",
       "108                          OnlyLettersInNames  \n",
       "109                                  CheckEmail  \n",
       "110                                    CheckAge  \n",
       "111                                    CheckAge  \n",
       "112                         CheckEmail CheckAge  \n",
       "113                          OnlyLettersInNames  \n",
       "114                                    CheckAge  \n",
       "115                                    CheckAge  \n",
       "116                                  CheckEmail  \n",
       "117                                    CheckAge  \n",
       "118                                    CheckAge  \n",
       "119                                  CheckEmail  \n",
       "120                                    CheckAge  \n",
       "121                 OnlyLettersInNames CheckAge  \n",
       "122                                    CheckAge  \n",
       "123                          OnlyLettersInNames  \n",
       "124                                    CheckAge  \n",
       "125  NotNullRecords OnlyLettersInNames CheckAge  \n",
       "126                                  CheckEmail  \n",
       "127                                    CheckAge  \n",
       "128                                    CheckAge  \n",
       "129                                    CheckAge  \n",
       "130                          OnlyLettersInNames  \n",
       "131                     NotNullRecords CheckAge  \n",
       "132                         CheckEmail CheckAge  \n",
       "133                                    CheckAge  \n",
       "134                                    CheckAge  \n",
       "135                                    CheckAge  \n",
       "136                          OnlyLettersInNames  \n",
       "137               OnlyLettersInNames CheckEmail  \n",
       "138                          OnlyLettersInNames  \n",
       "139                          OnlyLettersInNames  \n",
       "140                         CheckEmail CheckAge  \n",
       "141                                    CheckAge  \n",
       "142                 OnlyLettersInNames CheckAge  \n",
       "143                                    CheckAge  \n",
       "144                                    CheckAge  \n",
       "145                          OnlyLettersInNames  \n",
       "146                         CheckEmail CheckAge  \n",
       "147                          OnlyLettersInNames  \n",
       "148                         CheckEmail CheckAge  \n",
       "149                          OnlyLettersInNames  \n",
       "150                                  CheckEmail  "
      ]
     },
     "execution_count": 23,
     "metadata": {},
     "output_type": "execute_result"
    }
   ],
   "source": [
    "test.validating_data.loc[100:150]"
   ]
  }
 ],
 "metadata": {
  "colab": {
   "name": "jun_anl_exeptions.ipynb",
   "provenance": [],
   "version": "0.3.2"
  },
  "kernelspec": {
   "display_name": "Python 3",
   "language": "python",
   "name": "python3"
  },
  "language_info": {
   "codemirror_mode": {
    "name": "ipython",
    "version": 3
   },
   "file_extension": ".py",
   "mimetype": "text/x-python",
   "name": "python",
   "nbconvert_exporter": "python",
   "pygments_lexer": "ipython3",
   "version": "3.7.6"
  }
 },
 "nbformat": 4,
 "nbformat_minor": 1
}
