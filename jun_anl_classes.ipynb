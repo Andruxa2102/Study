{
 "cells": [
  {
   "cell_type": "markdown",
   "metadata": {},
   "source": [
    "# Классы\n",
    "## Домашнее задание"
   ]
  },
  {
   "cell_type": "markdown",
   "metadata": {},
   "source": [
    "### Вопросы по лекциям\n",
    "\n",
    "#### 1.\n",
    "\n",
    "Напишите название функции, которая является конструктором класса."
   ]
  },
  {
   "cell_type": "markdown",
   "metadata": {},
   "source": [
    "**Ответ:**\n",
    "__ init __"
   ]
  },
  {
   "cell_type": "markdown",
   "metadata": {},
   "source": [
    "#### 2.\n",
    "\n",
    "На что указывает переменная `self`?"
   ]
  },
  {
   "cell_type": "markdown",
   "metadata": {},
   "source": [
    "**Ответ:**\n",
    "На текущий объект, для которого вызываются атрибуты или методы."
   ]
  },
  {
   "cell_type": "markdown",
   "metadata": {},
   "source": [
    "#### 3.\n",
    "С помощью какой функции можно проверить, что некая строка является именем одного из атрибутов объекта?"
   ]
  },
  {
   "cell_type": "markdown",
   "metadata": {},
   "source": [
    "**Ответ:**\n",
    "hasattr(object, name_attribute)"
   ]
  },
  {
   "cell_type": "markdown",
   "metadata": {},
   "source": [
    "#### 4.\n",
    "Когда вызывается метод `__del__`? (относительно события удаления объекта)"
   ]
  },
  {
   "cell_type": "markdown",
   "metadata": {},
   "source": [
    "**Ответ:**\n",
    "Перед вызовом деструктора и удалением объекта."
   ]
  },
  {
   "cell_type": "markdown",
   "metadata": {},
   "source": [
    "#### 5.\n",
    "Верно ли, что атрибут класса перекрывает атрибут объекта?"
   ]
  },
  {
   "cell_type": "markdown",
   "metadata": {},
   "source": [
    "**Ответ:**\n",
    "Нет, атрибут объекта приоритетнее, чем атрибут класса."
   ]
  },
  {
   "cell_type": "markdown",
   "metadata": {},
   "source": [
    "#### 6.\n",
    "Можно ли атрибуты базового класса вызывать в дочернем классе? Если да, то напишите, нет ли исклчений?"
   ]
  },
  {
   "cell_type": "markdown",
   "metadata": {},
   "source": [
    "**Ответ:**\n",
    "Можно, за исключением атрибутов, начинающихся с двойного подчеркивания ('__')."
   ]
  },
  {
   "cell_type": "markdown",
   "metadata": {},
   "source": [
    "#### 7.\n",
    "Объясните своими словами для чего нужен метод `super`."
   ]
  },
  {
   "cell_type": "markdown",
   "metadata": {},
   "source": [
    "**Ответ:**\n",
    "Для доступа объекта-потомка к переопределенным методам родительского класса."
   ]
  },
  {
   "cell_type": "markdown",
   "metadata": {},
   "source": [
    "### Практика\n",
    "\n",
    "1. Напишите класс `Fraction` для работы с дробями. Пусть дробь в нашем классе предстает в виде `числитель/знаменатель`. Дробное число должно создаваться по запросу `Fraction(a, b)`, где `a` – это числитель, а `b` – знаменатель дроби. \n",
    "2. Добавьте возможность сложения (сложения через оператор сложения) для дроби. Предполагается, что операция сложения может проводиться как только между дробями, так и между дробью и целым числом. Результат оперции должен быть представлен в виде дроби.\n",
    "3. Добавьте возможность взятия раздости (вычитания через оператор вычитания) для дробей. Предполагается, что операция вычитания может проводиться как только для двух дробей, так и для дроби и целого числа. Результат оперции должен быть представлен в виде дроби.\n",
    "4. Добавьте возможность умножения (умножения через оператор умножения) для дробей. Предполагается, что операция умножения может проводиться как только для двух дробей, так и для дроби и целого числа. Результат оперции должен быть представлен в виде дроби.\n",
    "5. Добавьте возможность приведения дроби к целому числу через стандартную функцию `int()`.\n",
    "6. Добавьте возможность приведения дроби к числу с плавающей точкой через стандартную функцию `float()`.\n",
    "7. Создайте дочерний класс `OperationsOnFraction` и добавьте туда собственные методы `getint` и `getfloat`, которые будут возвращять целую часть дроби и представление дроби в виде числа с плавающей точкой соответственно. \n",
    " "
   ]
  },
  {
   "cell_type": "code",
   "execution_count": 1,
   "metadata": {},
   "outputs": [],
   "source": [
    "### YOUR CODE HERE ###\n",
    "\n",
    "def maximal_denominator(num1, num2):\n",
    "    if num2 == 0:\n",
    "        return num1\n",
    "    else:\n",
    "        return maximal_denominator(num2, num1 % num2)\n",
    "    \n",
    "def reduce_fraction(num1, num2):\n",
    "    flag = 0\n",
    "    denominator = 0\n",
    "    while flag == 0:\n",
    "        denominator = int(maximal_denominator(num1, num2))\n",
    "        if denominator != 1:\n",
    "            num1, num2 = num1 / denominator, num2 / denominator\n",
    "        else:\n",
    "            flag = 1\n",
    "    return int(num1), int(num2)       "
   ]
  },
  {
   "cell_type": "code",
   "execution_count": 2,
   "metadata": {},
   "outputs": [],
   "source": [
    "class Fraction:\n",
    "    \n",
    "    def __init__(self, *args):\n",
    "        self.numerator = args[0]\n",
    "        if len(args) == 1:\n",
    "            self.denominator = 1\n",
    "        else:\n",
    "            self.denominator = args[1]\n",
    "        print(f'Мы имеем дробь: {self.numerator}/{self.denominator}')\n",
    "    \n",
    "    def __add__(self, Fraction):\n",
    "        common_numerator = self.numerator * Fraction.denominator + Fraction.numerator * self.denominator\n",
    "        common_denominator = self.denominator * Fraction.denominator\n",
    "        \n",
    "        return_numerator, return_denominator = reduce_fraction(common_numerator, common_denominator)\n",
    "        \n",
    "        if return_denominator == 1:\n",
    "            print(f'Результат сложения: {return_numerator}')\n",
    "        else:\n",
    "            print(f'Результат сложения: {return_numerator}/{return_denominator}')\n",
    "        return return_numerator, return_denominator\n",
    "    \n",
    "    def __sub__(self, Fraction):\n",
    "        common_numerator = self.numerator * Fraction.denominator - Fraction.numerator * self.denominator\n",
    "        common_denominator = self.denominator * Fraction.denominator\n",
    "        \n",
    "        return_numerator, return_denominator = reduce_fraction(common_numerator, common_denominator)\n",
    "        \n",
    "        if return_denominator == 1:\n",
    "            print(f'Результат вычитания: {return_numerator}')\n",
    "        else:\n",
    "            print(f'Результат вычитания: {return_numerator}/{return_denominator}')\n",
    "        return return_numerator, return_denominator\n",
    "    \n",
    "    def __mul__(self, Fraction):\n",
    "        common_numerator = self.numerator * Fraction.denominator\n",
    "        common_denominator = self.denominator * Fraction.denominator\n",
    "        \n",
    "        return_numerator, return_denominator = reduce_fraction(common_numerator, common_denominator)\n",
    "        \n",
    "        if return_denominator == 1:\n",
    "            print(f'Результат умножения: {return_numerator}')\n",
    "        else:\n",
    "            print(f'Результат умножения: {return_numerator}/{return_denominator}')\n",
    "        return return_numerator, return_denominator\n",
    "    \n",
    "    def __int__(self):\n",
    "        print(f'Результат округления: {self.numerator // self.denominator}')\n",
    "        return self.numerator // self.denominator\n",
    "    \n",
    "    def __float__(self):\n",
    "        print(f'Десятичная дробь: {self.numerator / self.denominator}')\n",
    "        return self.numerator / self.denominator"
   ]
  },
  {
   "cell_type": "code",
   "execution_count": 3,
   "metadata": {},
   "outputs": [],
   "source": [
    "class OperationsOnFraction(Fraction):\n",
    "    \n",
    "    def __getint(self):\n",
    "        print(f'Результат округления: {self.numerator // self.denominator}')\n",
    "        return self.numerator // self.denominator\n",
    "    \n",
    "    def __getfloat(self):\n",
    "        print(f'Десятичная дробь: {self.numerator / self.denominator}')\n",
    "        return self.numerator / self.denominator"
   ]
  },
  {
   "cell_type": "code",
   "execution_count": 4,
   "metadata": {},
   "outputs": [
    {
     "name": "stdout",
     "output_type": "stream",
     "text": [
      "Мы имеем дробь: 6/5\n",
      "Мы имеем дробь: 3/15\n",
      "Результат сложения: 7/5\n",
      "Результат вычитания: 1\n",
      "Результат умножения: 6/5\n",
      "Результат округления: 1\n",
      "Десятичная дробь: 1.2\n"
     ]
    }
   ],
   "source": [
    "fr_object = Fraction(6, 5)\n",
    "fr_object1 = Fraction(3, 15)\n",
    "fr_object + fr_object1\n",
    "fr_object - fr_object1\n",
    "fr_object * fr_object1\n",
    "int(fr_object)\n",
    "float(fr_object);"
   ]
  },
  {
   "cell_type": "code",
   "execution_count": 5,
   "metadata": {},
   "outputs": [
    {
     "name": "stdout",
     "output_type": "stream",
     "text": [
      "Мы имеем дробь: 10/3\n",
      "Результат округления: 3\n",
      "Десятичная дробь: 3.3333333333333335\n"
     ]
    }
   ],
   "source": [
    "operation_object = OperationsOnFraction(10, 3)\n",
    "int(operation_object)\n",
    "float(operation_object);"
   ]
  }
 ],
 "metadata": {
  "kernelspec": {
   "display_name": "Python 3",
   "language": "python",
   "name": "python3"
  },
  "language_info": {
   "codemirror_mode": {
    "name": "ipython",
    "version": 3
   },
   "file_extension": ".py",
   "mimetype": "text/x-python",
   "name": "python",
   "nbconvert_exporter": "python",
   "pygments_lexer": "ipython3",
   "version": "3.7.6"
  }
 },
 "nbformat": 4,
 "nbformat_minor": 2
}
