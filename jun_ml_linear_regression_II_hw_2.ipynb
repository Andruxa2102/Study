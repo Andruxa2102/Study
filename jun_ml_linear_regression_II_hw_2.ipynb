{
 "cells": [
  {
   "cell_type": "code",
   "execution_count": null,
   "metadata": {},
   "outputs": [],
   "source": [
    "# Ridge, Lasso, sklearn.metrics.mean_squared_error, "
   ]
  },
  {
   "cell_type": "markdown",
   "metadata": {
    "slideshow": {
     "slide_type": "slide"
    }
   },
   "source": [
    "### Урок 2. Домашняя работа\n",
    "\n",
    "**Задание простого уровня** Загрузите данные из файла `data/non_linear.csv` (директорию `data` ищите в приложенных к этому уроку материалах) и сгенерируйте данные до степени *degree = 8* включительно. Обучите модель `sklearn.linear_model.Lasso` и модель `sklearn.linear_model.Ridge` на полученных данных, используйте коэффициент регуляризации $\\alpha=0.8$ для обеих моделей. Постройте два столбчатых графика, на которых отобразите величину коэффициентов в для Ridge регрессии и Lasso регрессии виде столбиков.\n",
    "\n",
    "Пример графиков для 3-й степени (просто для примера, у вас может по-другому выглядеть). Какой можно сделать в вывод по величине коэффициентов?:\n",
    "![coeff_example](https://pp.userapi.com/c850136/v850136613/19282c/OfwruuxOkPw.jpg)"
   ]
  },
  {
   "cell_type": "code",
   "execution_count": 1,
   "metadata": {
    "slideshow": {
     "slide_type": "fragment"
    }
   },
   "outputs": [],
   "source": [
    "# -- ВАШ КОД ТУТ\n",
    "\n",
    "import pandas as pd\n",
    "import numpy as np\n",
    "from sklearn.linear_model import Ridge, Lasso\n",
    "from sklearn.model_selection import train_test_split\n",
    "from sklearn.metrics import mean_squared_error\n",
    "\n",
    "def generate_degrees(source_data: list, degree: int):\n",
    "    return np.array([source_data ** n for n in range(1, degree + 1)]).T\n",
    "\n",
    "start_df = pd.read_csv('data/non_linear.csv')\n",
    "degree = 8\n",
    "X = generate_degrees(start_df['x_train'], degree)\n",
    "Y = start_df['y_train']"
   ]
  },
  {
   "cell_type": "code",
   "execution_count": 2,
   "metadata": {},
   "outputs": [
    {
     "name": "stderr",
     "output_type": "stream",
     "text": [
      "C:\\ProgramData\\Anaconda3\\lib\\site-packages\\sklearn\\linear_model\\coordinate_descent.py:475: ConvergenceWarning: Objective did not converge. You might want to increase the number of iterations. Duality gap: 4.335308493501593, tolerance: 0.0031912256832197063\n",
      "  positive)\n"
     ]
    }
   ],
   "source": [
    "model_ridge = Ridge(alpha = 0.8).fit(X, Y)\n",
    "model_lasso = Lasso(alpha = 0.8).fit(X, Y)\n",
    "y_pred_ridge = model_ridge.predict(X)\n",
    "y_pred_lasso = model_lasso.predict(X)"
   ]
  },
  {
   "cell_type": "code",
   "execution_count": 3,
   "metadata": {},
   "outputs": [
    {
     "data": {
      "image/png": "[encoded data removed]",
      "text/plain": [
       "<Figure size 432x288 with 1 Axes>"
      ]
     },
     "metadata": {
      "needs_background": "light"
     },
     "output_type": "display_data"
    }
   ],
   "source": [
    "import matplotlib.pyplot as plt\n",
    "%matplotlib inline\n",
    "fig = plt.figure()\n",
    "ax = plt.axes()\n",
    "ax.yaxis.grid(True)\n",
    "ax.set_xlabel('Номер коэффициента w(степень)')\n",
    "ax.set_ylabel('Величина')\n",
    "plt.bar([x+0.3 for x in range(len(model_lasso.coef_))], [y for y in model_lasso.coef_], width = 0.2, color = 'cyan', label = 'lasso')\n",
    "plt.bar([x for x in range(len(model_ridge.coef_))], [y for y in model_ridge.coef_], width = 0.2, color = 'sandybrown', label = 'ridge')\n",
    "plt.legend(loc='upper right')\n",
    "plt.show()"
   ]
  },
  {
   "cell_type": "code",
   "execution_count": 4,
   "metadata": {},
   "outputs": [
    {
     "data": {
      "text/plain": [
       "array([-0.00000000e+00, -0.00000000e+00, -1.23662052e-02, -8.77130342e-03,\n",
       "        9.34034433e-04,  1.71519415e-04,  3.88621101e-06, -1.73045762e-06])"
      ]
     },
     "execution_count": 4,
     "metadata": {},
     "output_type": "execute_result"
    }
   ],
   "source": [
    "model_lasso.coef_"
   ]
  },
  {
   "cell_type": "code",
   "execution_count": 5,
   "metadata": {
    "scrolled": true
   },
   "outputs": [
    {
     "data": {
      "text/plain": [
       "array([ 5.05133950e-01,  3.50113358e-01, -1.03076840e-04, -2.30029370e-01,\n",
       "        6.99603903e-02, -6.86910594e-04, -1.76964205e-03,  1.58301477e-04])"
      ]
     },
     "execution_count": 5,
     "metadata": {},
     "output_type": "execute_result"
    }
   ],
   "source": [
    "model_ridge.coef_"
   ]
  },
  {
   "cell_type": "markdown",
   "metadata": {
    "slideshow": {
     "slide_type": "slide"
    }
   },
   "source": [
    "Коэффициенты в модели регрессии ridge больше по модулю, чем в lasso."
   ]
  },
  {
   "cell_type": "markdown",
   "metadata": {
    "slideshow": {
     "slide_type": "slide"
    }
   },
   "source": [
    "Пока что мы пользуемся моделями с регуляризацией как \"черным ящиком\" - знаем, как применять и это работает! Для успешного решения задач этого достаточно. Если вам, как и мне, интересно *почему* это работает - добро пожаловать во второй урок, где Вас ждёт больше кода и формул!"
   ]
  }
 ],
 "metadata": {
  "celltoolbar": "Slideshow",
  "kernelspec": {
   "display_name": "Python 3",
   "language": "python",
   "name": "python3"
  },
  "language_info": {
   "codemirror_mode": {
    "name": "ipython",
    "version": 3
   },
   "file_extension": ".py",
   "mimetype": "text/x-python",
   "name": "python",
   "nbconvert_exporter": "python",
   "pygments_lexer": "ipython3",
   "version": "3.7.6"
  }
 },
 "nbformat": 4,
 "nbformat_minor": 2
}
