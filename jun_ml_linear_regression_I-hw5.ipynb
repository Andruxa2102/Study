{
 "cells": [
  {
   "cell_type": "code",
   "execution_count": null,
   "metadata": {},
   "outputs": [],
   "source": [
    "# LinearRegression, sklearn.metrics.mean_squared_error, matplotlib, scatter"
   ]
  },
  {
   "cell_type": "markdown",
   "metadata": {
    "colab_type": "text",
    "id": "cisB24TazhU2"
   },
   "source": [
    "## Домашняя работа 5\n",
    "\n",
    "**Задание простого уровня** Мы говорили, что метрики качества нужны, чтобы сравнивать различные модели между собой. В задаче полиномиальной регрессии реализуйте код для выбора лучшей степени полиному:\n",
    "\n",
    "* возьмите все степени от 1 до 10 по порядку, без пропусков.\n",
    "* найдите степень полинома будет лучший r2-score\n",
    "* напишите код, который выводит самую подходящую степень полинома и соответствующий ей скор\n",
    "\n",
    "Эта процедура называется Grid Search и помогает найти лучшие параметры для модели.\n",
    "\n",
    "Обучите лучшую модель и сделайте predict"
   ]
  },
  {
   "cell_type": "code",
   "execution_count": 1,
   "metadata": {
    "colab": {},
    "colab_type": "code",
    "id": "yAOKZYMNzhU4"
   },
   "outputs": [],
   "source": [
    "import numpy as np\n",
    "import pandas as pd\n",
    "from matplotlib import pyplot as plt\n",
    "from sklearn.linear_model import LinearRegression\n",
    "from sklearn.metrics import mean_squared_error"
   ]
  },
  {
   "cell_type": "code",
   "execution_count": 2,
   "metadata": {},
   "outputs": [],
   "source": [
    "def generate_degrees(source_data: list, degrees: int):\n",
    "    return np.array([source_data ** n for n in range(1, degrees + 1)]).T"
   ]
  },
  {
   "cell_type": "code",
   "execution_count": 3,
   "metadata": {},
   "outputs": [],
   "source": [
    "def train_polynomial(degree, data):\n",
    "    X = generate_degrees(data['x_train'], degree)\n",
    "    model = LinearRegression().fit(X, data['y_train'])\n",
    "    y_pred = model.predict(X)\n",
    "    error = mean_squared_error(data['y_train'], y_pred)\n",
    "    return(error)"
   ]
  },
  {
   "cell_type": "code",
   "execution_count": 4,
   "metadata": {},
   "outputs": [],
   "source": [
    "start_df = pd.read_csv('non_linear.csv')"
   ]
  },
  {
   "cell_type": "code",
   "execution_count": 5,
   "metadata": {},
   "outputs": [
    {
     "name": "stdout",
     "output_type": "stream",
     "text": [
      "[1, 0.30669633870474466]\n",
      "[2, 0.2977577317772746]\n",
      "[3, 0.07122538923378074]\n",
      "[4, 0.06670051280821704]\n",
      "[5, 0.0666603362808569]\n",
      "[6, 0.06424551878175602]\n",
      "[7, 0.06353029835567407]\n",
      "[8, 0.058300103279153755]\n",
      "[9, 0.058203411190012926]\n",
      "[10, 0.05800794120347328]\n",
      "[11, 0.05783082343069552]\n",
      "[12, 0.056826487032550624]\n",
      "[13, 0.05511008509899374]\n",
      "[14, 0.053358304959466175]\n",
      "[15, 0.053518260558688496]\n",
      "[16, 0.056317477068927]\n",
      "[17, 0.05830774369635358]\n",
      "[18, 0.057116390288933255]\n",
      "[19, 0.06346702148063964]\n",
      "[20, 0.0671171518988411]\n",
      "[21, 0.07622440450903716]\n",
      "[22, 0.10631755669737608]\n",
      "[23, 0.10643721400805639]\n",
      "[24, 0.10605945575654839]\n"
     ]
    }
   ],
   "source": [
    "# Взял степени от 1 до 25, тк лучший r2-score при степени выше 10. Лучший r2-score = 14\n",
    "\n",
    "errors_list = []\n",
    "for degree in range(1,25):\n",
    "    errors_list.append([degree, train_polynomial(degree, start_df)])\n",
    "print(*errors_list, sep = '\\n')"
   ]
  },
  {
   "cell_type": "code",
   "execution_count": 6,
   "metadata": {},
   "outputs": [
    {
     "data": {
      "text/plain": [
       "polynom_degree    14.000000\n",
       "error_value        0.053358\n",
       "Name: 13, dtype: float64"
      ]
     },
     "execution_count": 6,
     "metadata": {},
     "output_type": "execute_result"
    }
   ],
   "source": [
    "# код для вывода степени полинома (polynom_degree) и скор (error_value):\n",
    "\n",
    "errors_list = []\n",
    "for degree in range(1,25):\n",
    "    errors_list.append([degree, train_polynomial(degree, start_df)])\n",
    "errors_df = pd.DataFrame(errors_list, columns = ['polynom_degree', 'error_value'])\n",
    "errors_df.loc[errors_df['error_value'].idxmin()]"
   ]
  },
  {
   "cell_type": "code",
   "execution_count": 7,
   "metadata": {},
   "outputs": [
    {
     "data": {
      "image/png": "[encoded data removed]",
      "text/plain": [
       "<Figure size 432x288 with 1 Axes>"
      ]
     },
     "metadata": {
      "needs_background": "light"
     },
     "output_type": "display_data"
    }
   ],
   "source": [
    "def train_draw_predict_polynomial(degree, data):\n",
    "    X = generate_degrees(data['x_train'], degree)\n",
    "    model = LinearRegression().fit(X, data['y_train'])\n",
    "    y_pred = model.predict(X)\n",
    "    error = mean_squared_error(data['y_train'], y_pred)\n",
    "    plt.scatter(start_df['x_train'], start_df['y_train'], 40, 'g')\n",
    "    plt.plot(start_df['x_train'], y_pred)\n",
    "    \n",
    "train_draw_predict_polynomial(14,start_df)"
   ]
  },
  {
   "cell_type": "markdown",
   "metadata": {
    "colab_type": "text",
    "id": "z3dSmlAFzhU9"
   },
   "source": [
    "**Задание среднего уровня** Напишите класс для обучения модели, который содержит:\n",
    "\n",
    "* функцию `.fit(X, y)` , которая принимает на вход массив фичей `X`, массив таргетов `y` и обучает коэффициенты регрессии. Код для обучения взять из первого урока модуля *Постановка ML задачи линейной регрессии*\n",
    "* функцию `.predict(X)`, которая по массиву фичей `X` возвращает массив предсказаний `y`\n",
    "\n",
    "Нужно использовать код для аналитически вычисяемых коэффициентов. \n",
    "\n",
    "Это задание позволит понять, как работает линейная регрессия \"внутри\" библиотечной реализации."
   ]
  },
  {
   "cell_type": "code",
   "execution_count": 8,
   "metadata": {
    "colab": {},
    "colab_type": "code",
    "id": "rayvZFx1zhU9"
   },
   "outputs": [],
   "source": [
    "class CustomLinearReg:\n",
    "    def __init__(self):\n",
    "        self.W = []\n",
    "        self.y = np.array([])\n",
    "    \n",
    "    def fit(self, X, y):\n",
    "        X_T_X = (X.T).dot(X)\n",
    "        X_T_X_inverted = inv(X_T_X)\n",
    "        self.W = X_T_X_inverted.dot(X.T).dot(y)\n",
    "        \n",
    "    def predict(self, X):\n",
    "        self.y = X.dot(self.W.T)"
   ]
  },
  {
   "cell_type": "code",
   "execution_count": 10,
   "metadata": {},
   "outputs": [],
   "source": [
    "from numpy.linalg import inv\n",
    "X = [[1, i] for i in start_df['x_train']]\n",
    "X = np.array(X)\n",
    "y = np.array(start_df['y_train'])\n",
    "CustomLinearReg1 = CustomLinearReg()\n",
    "CustomLinearReg1.fit(X, y)"
   ]
  },
  {
   "cell_type": "code",
   "execution_count": 11,
   "metadata": {},
   "outputs": [
    {
     "data": {
      "text/plain": [
       "(50, 2)"
      ]
     },
     "execution_count": 11,
     "metadata": {},
     "output_type": "execute_result"
    }
   ],
   "source": [
    "X.shape"
   ]
  },
  {
   "cell_type": "code",
   "execution_count": 12,
   "metadata": {},
   "outputs": [
    {
     "data": {
      "text/plain": [
       "(2, 2)"
      ]
     },
     "execution_count": 12,
     "metadata": {},
     "output_type": "execute_result"
    }
   ],
   "source": [
    "X.T.dot(X).shape"
   ]
  },
  {
   "cell_type": "code",
   "execution_count": 15,
   "metadata": {},
   "outputs": [
    {
     "data": {
      "text/plain": [
       "(2,)"
      ]
     },
     "execution_count": 15,
     "metadata": {},
     "output_type": "execute_result"
    }
   ],
   "source": [
    "inv((X.T).dot(X)).dot(X.T).dot(y).shape"
   ]
  },
  {
   "cell_type": "code",
   "execution_count": 16,
   "metadata": {},
   "outputs": [
    {
     "data": {
      "text/plain": [
       "(50,)"
      ]
     },
     "execution_count": 16,
     "metadata": {},
     "output_type": "execute_result"
    }
   ],
   "source": [
    "y.shape"
   ]
  },
  {
   "cell_type": "code",
   "execution_count": 10,
   "metadata": {},
   "outputs": [
    {
     "data": {
      "text/plain": [
       "array([ 1.96903541, -0.33531472])"
      ]
     },
     "execution_count": 10,
     "metadata": {},
     "output_type": "execute_result"
    }
   ],
   "source": [
    "CustomLinearReg1.W"
   ]
  },
  {
   "cell_type": "code",
   "execution_count": 11,
   "metadata": {},
   "outputs": [
    {
     "data": {
      "text/plain": [
       "array([ 1.92263843,  1.91631157,  1.9057668 ,  1.73915947,  1.67589087,\n",
       "        1.57255215,  1.54935366,  1.5430268 ,  1.49873878,  1.49030296,\n",
       "        1.47554029,  1.45445075,  1.44812389,  1.35111203,  1.29206133,\n",
       "        1.20137633,  1.08327494,  1.06851226,  1.0305511 ,  1.02211529,\n",
       "        0.99258994,  0.98837203,  0.87237959,  0.85761691,  0.78591249,\n",
       "        0.76271401,  0.70788121,  0.70366331,  0.65515738,  0.59188877,\n",
       "        0.59188877,  0.58556191,  0.56447238,  0.51596645,  0.44637098,\n",
       "        0.43582621,  0.41895459,  0.41262772,  0.31350691,  0.25023831,\n",
       "        0.23969354,  0.20595028,  0.18907865,  0.15322644,  0.14268168,\n",
       "        0.12159214,  0.08784889, -0.0260346 , -0.03236146, -0.03236146])"
      ]
     },
     "execution_count": 11,
     "metadata": {},
     "output_type": "execute_result"
    }
   ],
   "source": [
    "CustomLinearReg1.predict(X)\n",
    "CustomLinearReg1.y"
   ]
  },
  {
   "cell_type": "code",
   "execution_count": 12,
   "metadata": {},
   "outputs": [],
   "source": [
    "# Проверим\n",
    "\n",
    "LinearRegression1 = LinearRegression().fit(X, start_df['y_train'])"
   ]
  },
  {
   "cell_type": "code",
   "execution_count": 13,
   "metadata": {},
   "outputs": [
    {
     "data": {
      "text/plain": [
       "[1.9690354055876087, -0.3353147234726132]"
      ]
     },
     "execution_count": 13,
     "metadata": {},
     "output_type": "execute_result"
    }
   ],
   "source": [
    "# Коэффициенты приблизительно совпали\n",
    "\n",
    "[LinearRegression1.intercept_, LinearRegression1.coef_[1]]"
   ]
  },
  {
   "cell_type": "code",
   "execution_count": 14,
   "metadata": {
    "scrolled": true
   },
   "outputs": [
    {
     "data": {
      "text/plain": [
       "array([ 1.92263843,  1.91631157,  1.9057668 ,  1.73915947,  1.67589087,\n",
       "        1.57255215,  1.54935366,  1.5430268 ,  1.49873878,  1.49030296,\n",
       "        1.47554029,  1.45445075,  1.44812389,  1.35111203,  1.29206133,\n",
       "        1.20137633,  1.08327494,  1.06851226,  1.0305511 ,  1.02211529,\n",
       "        0.99258994,  0.98837203,  0.87237959,  0.85761691,  0.78591249,\n",
       "        0.76271401,  0.70788121,  0.70366331,  0.65515738,  0.59188877,\n",
       "        0.59188877,  0.58556191,  0.56447238,  0.51596645,  0.44637098,\n",
       "        0.43582621,  0.41895459,  0.41262772,  0.31350691,  0.25023831,\n",
       "        0.23969354,  0.20595028,  0.18907865,  0.15322644,  0.14268168,\n",
       "        0.12159214,  0.08784889, -0.0260346 , -0.03236146, -0.03236146])"
      ]
     },
     "execution_count": 14,
     "metadata": {},
     "output_type": "execute_result"
    }
   ],
   "source": [
    "# Прогнозные данные полностью совпали \n",
    "\n",
    "LinearRegression1.predict(X)"
   ]
  },
  {
   "cell_type": "markdown",
   "metadata": {
    "colab_type": "text",
    "id": "uwWP7aPOzhVA"
   },
   "source": [
    "**Задание высокого уровня**\n",
    "\n",
    "1. разделите датасет с домами Бостона из Урока 2 (таргет и фичи) на две части: в одной части 80% датасета (назовём train) в другой 20% (назовём valid)\n",
    "1. обучите модель только на train датасете\n",
    "1. постройте предсказания valid датасете\n",
    "1. Посчитайте  `r2 score` на валидационном сете\n",
    "\n",
    "После этого примените к обеим датасетам z-преобразование и повторите шаги 2-4. Как изменилась метрика r2?\n",
    "\n",
    "Это задание поможет понять, как валидировать линейную регрессию (и другие модели) на отложенной выборке."
   ]
  },
  {
   "cell_type": "code",
   "execution_count": 15,
   "metadata": {},
   "outputs": [],
   "source": [
    "from sklearn.datasets import load_boston\n",
    "boston_dataset = load_boston()\n",
    "features = boston_dataset.data\n",
    "y = boston_dataset.target"
   ]
  },
  {
   "cell_type": "code",
   "execution_count": 16,
   "metadata": {},
   "outputs": [],
   "source": [
    "limit = features.shape[0] // 100 * 80"
   ]
  },
  {
   "cell_type": "code",
   "execution_count": 17,
   "metadata": {},
   "outputs": [],
   "source": [
    "X_train = features[:limit]\n",
    "y_train = y[:limit]\n",
    "X_valid = features[limit:]\n",
    "y_valid = y[limit:]"
   ]
  },
  {
   "cell_type": "code",
   "execution_count": 18,
   "metadata": {},
   "outputs": [
    {
     "data": {
      "text/plain": [
       "LinearRegression(copy_X=True, fit_intercept=True, n_jobs=None, normalize=False)"
      ]
     },
     "execution_count": 18,
     "metadata": {},
     "output_type": "execute_result"
    }
   ],
   "source": [
    "LinearRegression2 = LinearRegression()\n",
    "LinearRegression2.fit(X_train, y_train)"
   ]
  },
  {
   "cell_type": "code",
   "execution_count": 19,
   "metadata": {},
   "outputs": [
    {
     "name": "stdout",
     "output_type": "stream",
     "text": [
      "37.89377859960114\n"
     ]
    }
   ],
   "source": [
    "y_pred = LinearRegression2.predict(X_valid);\n",
    "r2 = mean_squared_error(y_valid, y_pred)\n",
    "print(r2)"
   ]
  },
  {
   "cell_type": "code",
   "execution_count": 20,
   "metadata": {},
   "outputs": [],
   "source": [
    "from sklearn.preprocessing import StandardScaler\n",
    "normalized_X_train = StandardScaler().fit_transform(X_train)\n",
    "normalized_y_train = StandardScaler().fit_transform(y_train.reshape(-1,1)).reshape(-1)\n",
    "normalized_X_valid = StandardScaler().fit_transform(X_valid)\n",
    "normalized_y_valid = StandardScaler().fit_transform(y_valid.reshape(-1,1)).reshape(-1)"
   ]
  },
  {
   "cell_type": "code",
   "execution_count": 21,
   "metadata": {},
   "outputs": [
    {
     "data": {
      "text/plain": [
       "LinearRegression(copy_X=True, fit_intercept=True, n_jobs=None, normalize=False)"
      ]
     },
     "execution_count": 21,
     "metadata": {},
     "output_type": "execute_result"
    }
   ],
   "source": [
    "LinearRegression2.fit(normalized_X_train, normalized_y_train)"
   ]
  },
  {
   "cell_type": "code",
   "execution_count": 22,
   "metadata": {},
   "outputs": [
    {
     "name": "stdout",
     "output_type": "stream",
     "text": [
      "0.6908460466001579\n"
     ]
    }
   ],
   "source": [
    "y_pred = LinearRegression2.predict(normalized_X_valid);\n",
    "r2 = mean_squared_error(normalized_y_valid, y_pred)\n",
    "print(r2)"
   ]
  }
 ],
 "metadata": {
  "colab": {
   "name": "jun_ml_linear_regression_I-hw5.ipynb",
   "provenance": [],
   "version": "0.3.2"
  },
  "kernelspec": {
   "display_name": "Python 3",
   "language": "python",
   "name": "python3"
  },
  "language_info": {
   "codemirror_mode": {
    "name": "ipython",
    "version": 3
   },
   "file_extension": ".py",
   "mimetype": "text/x-python",
   "name": "python",
   "nbconvert_exporter": "python",
   "pygments_lexer": "ipython3",
   "version": "3.7.6"
  }
 },
 "nbformat": 4,
 "nbformat_minor": 1
}
